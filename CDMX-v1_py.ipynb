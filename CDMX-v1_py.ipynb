{
 "cells": [
  {
   "cell_type": "markdown",
   "metadata": {},
   "source": [
    "# Implementación en Python del modelo epidemiológico COVID-19 de CDMX\n",
    "\n",
    "[Modelo publicado por el gobierno de la Ciudad de México](https://modelo.covid19.cdmx.gob.mx/modelo-epidemico)\n",
    "\n",
    "Robado de la implementación original en Julia de [@ollin18](https://github.com/ollin18/ComplexSystems.jl/blob/master/examples/CDMX_model.ipynb)"
   ]
  },
  {
   "cell_type": "markdown",
   "metadata": {},
   "source": [
    "[Archivo con los documentos del modelo en el momento de implementar esto](cdmx_archive)\n",
    "\n",
    "El modelo se define como un sistema de ecuaciones diferenciales ordinarias. Se va a resolver para un rango de tiempo definido.\n",
    "\n",
    "![ecuaciones.png](img/ecuaciones.png)\n",
    "\n",
    "Donde:\n",
    "\n",
    "- S = Susceptibles\n",
    "- E = Expuestos\n",
    "- I = Infectados\n",
    "- L = Contagiados sintomáticos leves\n",
    "- G = Contagiados sintomáticos graves\n",
    "- H = Hospitalizados\n",
    "- ICU = Unidad de Terapia Intensiva\n",
    "- R = Recuperados\n",
    "- M = Muertos\n",
    "\n",
    "![modelo](img/variables.png)\n",
    "\n",
    "Los parámetros del modelo pueden ser consultados en la página del modelo o en el [archivo que he respaldado](cdmx_archive) por si hay cambios mas adelante. En la implementación del modelo se puede ver los usados en este caso y a qué corresponden."
   ]
  },
  {
   "cell_type": "code",
   "execution_count": 1,
   "metadata": {},
   "outputs": [],
   "source": [
    "#https://modelo.covid19.cdmx.gob.mx/modelo-epidemico\n",
    "#https://github.com/ollin18/ComplexSystems.jl/blob/master/examples/CDMX_model.ipynb\n",
    "\n",
    "import numpy as np\n",
    "import matplotlib.pyplot as plt\n",
    "from scipy.integrate import odeint\n",
    "\n",
    "\n",
    "VARS = ['susceptibles', 'infecciosos', 'expuestos', 'leve', 'grave', 'hospitalizados', 'uci', 'recuperados', 'muertos']\n",
    "\n",
    "#por qué necesita esta distribucion?\n",
    "def degree_dist(p, k_max):\n",
    "    pk = np.zeros(k_max)\n",
    "    #print(pk)\n",
    "    for k in range(k_max-1):\n",
    "        pk[k+1] = (1 - np.exp(-p)) * np.exp(-p * k)\n",
    "    #print(pk)\n",
    "    return pk"
   ]
  },
  {
   "cell_type": "markdown",
   "metadata": {},
   "source": [
    "Genera una matriz con los 'k_max' casos a probar (simulaciones?)\n",
    "\n",
    "```\n",
    "[sus1 sus2 ... susN inf1 inf2 ... infN exp1 exp2 ... expN leve1 ... leve2 ... etc]\n",
    "```\n",
    "\n",
    "Inicializa solo con los susceptibles e infectados a partir de datos aleatorios, las demás variables en ceros. Esta matriz es la que se utiliza al integrar para resolver el sistema de ecuaciones."
   ]
  },
  {
   "cell_type": "code",
   "execution_count": 2,
   "metadata": {},
   "outputs": [],
   "source": [
    "def make_proportions(compart_num, init_infec):\n",
    "    \"\"\"\n",
    "    Inicializa la matriz de variables del modelo. Quedan en el formato definido en VARS. \n",
    "    Cada variable se reporduce por el número de simulaciones.\n",
    "    \"\"\"\n",
    "    susceptible = 1 - prop_inf\n",
    "    initial = np.array([susceptible, init_infec])\n",
    "    for n in range(compart_num-2):\n",
    "        initial = np.vstack((initial, np.zeros(len(init_infec))))\n",
    "    return initial.flatten()"
   ]
  },
  {
   "cell_type": "markdown",
   "metadata": {},
   "source": [
    "## Implementación\n",
    "\n",
    "Esta es la función que implementa el modelo. Su firma debe ser compatible con la firma que espera [`scipy.integrate.odeint`](https://docs.scipy.org/doc/scipy/reference/generated/scipy.integrate.odeint.html) (ordinary diferential equations).\n",
    "\n",
    "- En `x` se recibe la matriz de variables\n",
    "- En `t` es el paso de tiempo que se está ejecutando (en este caso el modelo no cambia en el tiempo)\n",
    "- En `k_max` - por clarificar\n",
    "- En `prop_deg` probabilidad del número de contactos (revisar modelos de redes en vez de deterministas)\n",
    "\n",
    "El modelo regresa un arreglo en el mismo formato con el resultado de aplicar las funciones a los K_max ejemplos para el tiempo t."
   ]
  },
  {
   "cell_type": "code",
   "execution_count": 3,
   "metadata": {},
   "outputs": [],
   "source": [
    "def CDMX(x, t, k_max, prop_deg):\n",
    "    def iof(ind):\n",
    "        \"\"\"IndexOF: solo sirve para sacar el arreglo de la variable de interés\"\"\"\n",
    "        n = VARS.index(ind)\n",
    "        return x[(n * k_max):((n+1) * k_max)]    \n",
    "\n",
    "    #Nombres en el modelo de CDMX (2020-05-14)\n",
    "    R0=2.83         #Tasa de reproducción estimada\n",
    "    Dinf=2.9        #Tiempo que es infeccioso el paciente\n",
    "    Dincub=5.2      #Tiempo incubación\n",
    "    Drl=14          #Tiempo recuperación casos intermedios\n",
    "    Dhosp=4         #Días entre síntomas y hospitalización\n",
    "    Drh=12          #Días totales de hospitalización\n",
    "    Duci=1          #**No especificado en modelo: Dias en UCI\n",
    "    Druci=7 #10     #**No especificado en modelo: Dias de recuperacion de UCIa\n",
    "    Dm=8            #**No especificado en modelo: Dias a muerte en UCI\n",
    "    pgrav=0.138     #Tasa de hospitalización\n",
    "    puci=0.05       #Tasa de UCI\n",
    "    pm=0.030        #Tasa de mortalidad\n",
    "    #Otros:\n",
    "    #  Tiempo entre incubación y muerte [dias]: 32 \n",
    "    #  Poblacion susceptible [millones]: 22 (ver en código)\n",
    "    \n",
    "    y = np.zeros(len(x))\n",
    "    k_mult = np.arange(1, k_max+1) * prop_deg\n",
    "    avg_k = np.sum(k_mult)\n",
    "    further = np.sum(np.multiply(k_mult, iof('expuestos')))\n",
    "    th = further / avg_k\n",
    "    \n",
    "    for k in range(k_max):\n",
    "        d_sus = -(R0/Dinf) * iof('infecciosos')[k] * iof('susceptibles')[k]\n",
    "        d_exp = (R0/Dinf) * iof('infecciosos')[k] * iof('susceptibles')[k] - (1/Dincub)*iof('expuestos')[k]\n",
    "        d_inf = (1/Dincub) * iof('expuestos')[k] - (1/Dinf) * iof('infecciosos')[k]\n",
    "        d_leve = (1-pgrav) * (1/Dinf) * iof('infecciosos')[k] - (1/Drl) * iof('leve')[k]\n",
    "        d_grav = pgrav * (1/Dinf) * iof('infecciosos')[k] - (1/Dhosp) * iof('grave')[k]\n",
    "        d_hosp = (1/Dhosp) * iof('grave')[k] - (1-puci) * (1/Drh) * iof('hospitalizados')[k] \\\n",
    "            - puci * (1/Duci)*iof('hospitalizados')[k]\n",
    "        d_uci = puci * (1/Duci) * iof('hospitalizados')[k] - (1-pm) * (1/Druci) * iof('uci')[k] \\\n",
    "            - pm * (1/Dm) * iof('uci')[k]\n",
    "        d_rec = (1/Drl) * iof('leve')[k] + (1-puci) * (1/Drh) * iof('hospitalizados')[k] \\\n",
    "            + (1-pm) * (1/Druci) * iof('uci')[k]\n",
    "        d_mue = pm * (1/Dm) * iof('uci')[k]\n",
    "\n",
    "        y[k] = d_sus\n",
    "        y[k_max + k] = d_inf\n",
    "        y[2*k_max + k] = d_exp\n",
    "        y[3*k_max + k] = d_leve\n",
    "        y[4*k_max + k] = d_grav\n",
    "        y[5*k_max + k] = d_hosp\n",
    "        y[6*k_max + k] = d_uci\n",
    "        y[7*k_max + k] = d_rec\n",
    "        y[8*k_max + k] = d_mue\n",
    "            \n",
    "    return y"
   ]
  },
  {
   "cell_type": "markdown",
   "metadata": {},
   "source": [
    "### Ejecución del modelo\n",
    "\n",
    "k_max define el número de ejemplos aleatorios. Cada uno tiene una variabilidad sobre el contagio (R0) ajustado \n",
    "a una ley de potencias (propuesto por @ollin18) y que representa una red con distintos valores de R0."
   ]
  },
  {
   "cell_type": "code",
   "execution_count": 4,
   "metadata": {},
   "outputs": [
    {
     "data": {
      "text/plain": [
       "array([3.59996978e-03, 5.43912369e-04, 1.14763576e-04, 8.95993651e-03,\n",
       "       3.98668816e-03, 1.78177358e-03, 2.42900831e-04, 9.93709263e-03,\n",
       "       1.38295542e-03, 5.63139322e-03, 9.09252061e-03, 7.95504116e-03,\n",
       "       6.09159800e-03, 4.84618752e-03, 1.94534689e-03, 3.00610066e-03,\n",
       "       4.33562281e-03, 5.21425908e-04, 3.26113904e-03, 2.18505362e-03,\n",
       "       7.66752285e-03, 8.87365575e-03, 9.87376123e-04, 2.63760888e-03,\n",
       "       1.18050834e-04, 1.55337273e-04, 7.01579707e-03, 9.14738880e-03,\n",
       "       7.14829840e-04, 3.09446730e-03, 9.41545200e-03, 7.40023288e-04,\n",
       "       3.86271878e-03, 3.63974165e-03, 7.94012327e-03, 2.13345416e-03,\n",
       "       9.16093714e-03, 6.99285788e-03, 8.60600291e-03, 2.36980599e-03,\n",
       "       3.76259066e-03, 1.09078853e-03, 9.15430293e-03, 1.21790733e-03,\n",
       "       3.03493431e-03, 2.26102137e-03, 4.36759859e-03, 2.73491174e-03,\n",
       "       7.46454766e-03, 3.04464386e-03, 1.00147995e-02, 7.44981090e-03,\n",
       "       1.00567032e-02, 8.49336084e-03, 7.01696433e-03, 7.73492071e-03,\n",
       "       5.80829873e-03, 5.36657167e-03, 4.93085811e-03, 2.43261018e-03,\n",
       "       6.60682447e-03, 3.99697845e-03, 2.46978913e-03, 4.10887786e-03,\n",
       "       1.03323880e-03, 5.29960948e-04, 8.77094588e-03, 2.78105754e-03,\n",
       "       8.02419125e-03, 9.05309989e-04, 7.17090667e-03, 1.98155465e-03,\n",
       "       6.04472603e-03, 9.74882085e-03, 5.17823305e-03, 1.91021201e-03,\n",
       "       2.37178137e-03, 7.11859707e-03, 4.43016810e-03, 1.72158469e-03,\n",
       "       7.75792504e-03, 1.35637024e-03, 1.01309244e-02, 4.96440459e-03,\n",
       "       6.97333202e-03, 1.81645121e-03, 6.93077027e-03, 6.58643461e-03,\n",
       "       4.04748960e-03, 5.87865577e-03, 3.65796912e-03, 8.85629445e-03,\n",
       "       5.86676297e-03, 8.05758404e-03, 4.10067206e-03, 9.04342931e-03,\n",
       "       1.28196900e-03, 2.92981886e-03, 8.87785319e-03, 5.76630452e-03,\n",
       "       9.40569235e-03, 1.01360263e-02, 4.36135665e-03, 8.12913581e-03,\n",
       "       9.26395557e-03, 1.94819794e-03, 1.36844942e-03, 8.94434087e-03,\n",
       "       8.49669555e-03, 9.72674608e-03, 5.83848536e-03, 4.47465952e-03,\n",
       "       4.60993124e-03, 6.39191159e-03, 3.33376396e-03, 7.24497069e-03,\n",
       "       8.37346865e-03, 1.02789563e-03, 2.15448869e-03, 5.04948958e-05,\n",
       "       8.87835470e-03, 5.76680615e-03, 4.29187943e-03, 5.94473642e-03,\n",
       "       5.86569215e-03, 2.16057941e-03, 5.55122330e-03, 8.03136330e-03,\n",
       "       7.35039024e-03, 7.14709371e-03, 7.92631151e-03, 5.37605310e-03,\n",
       "       4.26421454e-03, 5.53009654e-03, 9.17728991e-03, 5.39203385e-03,\n",
       "       1.70534398e-03, 3.44714796e-03, 9.34116579e-03, 5.25275896e-03,\n",
       "       2.13338656e-03, 8.56006505e-03, 3.14202594e-03, 3.79738470e-03,\n",
       "       2.60146909e-03, 8.04659658e-03, 6.63993404e-03, 8.09962024e-03,\n",
       "       1.48427591e-03, 8.42459438e-03, 3.84275066e-03, 9.23561761e-04,\n",
       "       1.00779841e-02, 1.77220850e-04, 8.22724914e-03, 5.67968174e-03,\n",
       "       3.46681439e-03, 5.15467450e-03, 1.44133635e-03, 8.87347052e-05,\n",
       "       8.53250565e-03, 3.06396350e-03, 6.47085618e-03, 2.13633336e-04,\n",
       "       4.88368000e-03, 9.08829621e-03, 1.71066952e-03, 6.12722916e-03,\n",
       "       4.02026143e-03, 5.72750268e-04, 9.57312698e-03, 1.80583094e-03,\n",
       "       8.31375223e-04, 4.94140153e-03, 6.37389814e-03, 1.19077092e-03,\n",
       "       6.72832967e-04, 3.49044258e-03, 4.06048670e-03, 8.84134170e-03,\n",
       "       4.05594211e-03, 1.37498435e-03, 5.90853215e-03, 9.28254336e-03,\n",
       "       4.69289909e-03, 9.87203764e-03, 7.32131180e-04, 6.24486053e-03,\n",
       "       4.79839393e-03, 1.24801698e-03, 9.91276171e-03, 3.89114615e-04,\n",
       "       9.58204791e-03, 1.10507020e-03, 7.33816543e-03, 4.94059407e-03,\n",
       "       8.44896909e-03, 4.77710046e-03, 4.24110439e-03, 4.98092221e-03])"
      ]
     },
     "execution_count": 4,
     "metadata": {},
     "output_type": "execute_result"
    }
   ],
   "source": [
    "#numero de \"escenarios\"\n",
    "k_max = 200\n",
    "\n",
    "p = 0.4\n",
    "infec = np.random.rand(k_max)\n",
    "all_infec = sum(infec)\n",
    "prop_inf = infec / all_infec\n",
    "prop_inf"
   ]
  },
  {
   "cell_type": "code",
   "execution_count": 5,
   "metadata": {},
   "outputs": [
    {
     "data": {
      "text/plain": [
       "102.13365713810033"
      ]
     },
     "execution_count": 5,
     "metadata": {},
     "output_type": "execute_result"
    }
   ],
   "source": [
    "np.sum(prop_inf * np.arange(1, k_max+1))"
   ]
  },
  {
   "cell_type": "markdown",
   "metadata": {},
   "source": [
    "Inicialización de la matriz de variables"
   ]
  },
  {
   "cell_type": "code",
   "execution_count": 6,
   "metadata": {},
   "outputs": [
    {
     "data": {
      "text/plain": [
       "1800"
      ]
     },
     "execution_count": 6,
     "metadata": {},
     "output_type": "execute_result"
    }
   ],
   "source": [
    "the_proportions = make_proportions(9, prop_inf)\n",
    "the_proportions\n",
    "len(the_proportions)"
   ]
  },
  {
   "cell_type": "code",
   "execution_count": 7,
   "metadata": {},
   "outputs": [
    {
     "name": "stdout",
     "output_type": "stream",
     "text": [
      "[0.         0.32967995 0.22099108 0.14813475 0.09929769 0.06656123\n",
      " 0.04461733 0.02990789 0.02004786 0.01343848]\n"
     ]
    },
    {
     "data": {
      "text/plain": [
       "[<matplotlib.lines.Line2D at 0x7fd70cf73208>]"
      ]
     },
     "execution_count": 7,
     "metadata": {},
     "output_type": "execute_result"
    },
    {
     "data": {
      "image/png": "[encoded data removed]",
      "text/plain": [
       "<Figure size 432x288 with 1 Axes>"
      ]
     },
     "metadata": {
      "needs_background": "light"
     },
     "output_type": "display_data"
    }
   ],
   "source": [
    "#pd es el parámetro prop_deg del modelo (qué es?)\n",
    "pd = degree_dist(p, k_max)\n",
    "print(pd[:10])\n",
    "#sum(pd)\n",
    "plt.plot(pd)"
   ]
  },
  {
   "cell_type": "code",
   "execution_count": 8,
   "metadata": {},
   "outputs": [
    {
     "data": {
      "text/plain": [
       "4.033244781719736"
      ]
     },
     "execution_count": 8,
     "metadata": {},
     "output_type": "execute_result"
    }
   ],
   "source": [
    "np.sum(np.multiply(pd, np.arange(1, k_max+1)))"
   ]
  },
  {
   "cell_type": "markdown",
   "metadata": {},
   "source": [
    "Ejecución del modelo, resuelve el sistema de ecuaciones diferenciales en los tiempos definidos en `t` (días)"
   ]
  },
  {
   "cell_type": "code",
   "execution_count": 9,
   "metadata": {},
   "outputs": [],
   "source": [
    "t = np.arange(0, 101, 1)\n",
    "y1 = odeint(CDMX, the_proportions, t, args=(k_max, pd))"
   ]
  },
  {
   "cell_type": "code",
   "execution_count": 10,
   "metadata": {},
   "outputs": [
    {
     "data": {
      "text/plain": [
       "(101, 1800)"
      ]
     },
     "execution_count": 10,
     "metadata": {},
     "output_type": "execute_result"
    }
   ],
   "source": [
    "y1.shape"
   ]
  },
  {
   "cell_type": "code",
   "execution_count": 11,
   "metadata": {},
   "outputs": [
    {
     "name": "stdout",
     "output_type": "stream",
     "text": [
      "(1800,)\n"
     ]
    },
    {
     "data": {
      "text/plain": [
       "array([0.99640003, 0.99945609, 0.99988524, ..., 0.        , 0.        ,\n",
       "       0.        ])"
      ]
     },
     "execution_count": 11,
     "metadata": {},
     "output_type": "execute_result"
    }
   ],
   "source": [
    "print(y1[0].shape)\n",
    "y1[0]"
   ]
  },
  {
   "cell_type": "code",
   "execution_count": 12,
   "metadata": {
    "scrolled": true
   },
   "outputs": [
    {
     "name": "stdout",
     "output_type": "stream",
     "text": [
      "101\n"
     ]
    },
    {
     "data": {
      "text/plain": [
       "[0.9973589032824983,\n",
       " 0.9951365983792677,\n",
       " 0.9932575069903774,\n",
       " 0.9914072917361508,\n",
       " 0.9894090350231466,\n",
       " 0.9871498175380005,\n",
       " 0.9845448614724901,\n",
       " 0.9815199269960191,\n",
       " 0.9780027592763786,\n",
       " 0.9739191774826597,\n",
       " 0.9691917085398225,\n",
       " 0.9637397898287099,\n",
       " 0.9574811123498751,\n",
       " 0.950333912733522,\n",
       " 0.9422200852744482,\n",
       " 0.9330689511130859,\n",
       " 0.9228214458885056,\n",
       " 0.911434324328994,\n",
       " 0.8988838699875354,\n",
       " 0.8851685365293049,\n",
       " 0.8703099332471711,\n",
       " 0.8543517588603224,\n",
       " 0.8373565485498842,\n",
       " 0.819400470137843,\n",
       " 0.8005667919892048,\n",
       " 0.780938909254902,\n",
       " 0.7605939239336083,\n",
       " 0.7395976958635597,\n",
       " 0.7180020236242631,\n",
       " 0.6958443028167397,\n",
       " 0.6731496617927933,\n",
       " 0.649935263812732,\n",
       " 0.6262162389793968,\n",
       " 0.6020125060475197,\n",
       " 0.5773556187580586,\n",
       " 0.5522947213172529,\n",
       " 0.5269007249270525,\n",
       " 0.5012680216804983,\n",
       " 0.4755133879897398,\n",
       " 0.44977220881988267,\n",
       " 0.42419269455992203,\n",
       " 0.39892913347564013,\n",
       " 0.3741353722090101,\n",
       " 0.3499595035809957,\n",
       " 0.3265402421818474,\n",
       " 0.3040048831775656,\n",
       " 0.2824682347516172,\n",
       " 0.26203173003516905,\n",
       " 0.2427820593466914,\n",
       " 0.22478906612422406,\n",
       " 0.20810313943373998,\n",
       " 0.1927527017674216,\n",
       " 0.1787425315817197,\n",
       " 0.16605350884855014,\n",
       " 0.154644054403629,\n",
       " 0.144453145825597,\n",
       " 0.1354044770117293,\n",
       " 0.12741118474254975,\n",
       " 0.12038055433028162,\n",
       " 0.1142182445055797,\n",
       " 0.10883174556774795,\n",
       " 0.10413295460452868,\n",
       " 0.10003989694376722,\n",
       " 0.0964777020897846,\n",
       " 0.09337898602796768,\n",
       " 0.09068379701418595,\n",
       " 0.08833927255614345,\n",
       " 0.08629911520512618,\n",
       " 0.08452297924074717,\n",
       " 0.08297583041835967,\n",
       " 0.08162731948487806,\n",
       " 0.08045119394504821,\n",
       " 0.0794247616456687,\n",
       " 0.07852841117940704,\n",
       " 0.07774518930915025,\n",
       " 0.07706043242646672,\n",
       " 0.07646144745557397,\n",
       " 0.07593723701737673,\n",
       " 0.07547826336404881,\n",
       " 0.0750762461783066,\n",
       " 0.07472398939107827,\n",
       " 0.07441523285994356,\n",
       " 0.07414452541037575,\n",
       " 0.07390711605764436,\n",
       " 0.0736988608802136,\n",
       " 0.0735161416806139,\n",
       " 0.0733557978682599,\n",
       " 0.07321506654360974,\n",
       " 0.07309153115783061,\n",
       " 0.07298307685683222,\n",
       " 0.07288785198407893,\n",
       " 0.07280423460742616,\n",
       " 0.0727308034709776,\n",
       " 0.07266631280447619,\n",
       " 0.07260967028895493,\n",
       " 0.07255991793023459,\n",
       " 0.0725162153407199,\n",
       " 0.07247782519056817,\n",
       " 0.0724441004020811,\n",
       " 0.07241447292031468,\n",
       " 0.07238844411680503]"
      ]
     },
     "execution_count": 12,
     "metadata": {},
     "output_type": "execute_result"
    }
   ],
   "source": [
    "susceptibles = [np.sum(np.multiply(ye[:k_max], pd)) for ye in y1]\n",
    "print(len(susceptibles))\n",
    "susceptibles"
   ]
  },
  {
   "cell_type": "markdown",
   "metadata": {},
   "source": [
    "Los resultados se obtienen tras sumar los de cada ejemplo"
   ]
  },
  {
   "cell_type": "code",
   "execution_count": 13,
   "metadata": {},
   "outputs": [],
   "source": [
    "res = {}\n",
    "for index, var in enumerate(VARS):\n",
    "    fr = k_max * index\n",
    "    to = k_max * (index+1)\n",
    "    res[var] = [np.sum(np.multiply(ye[fr:to], pd)) for ye in y1] "
   ]
  },
  {
   "cell_type": "markdown",
   "metadata": {},
   "source": [
    "## Resultados\n",
    "### Suceptibles,  Expuestos, Infectados y Recuperados como proporción de la población"
   ]
  },
  {
   "cell_type": "code",
   "execution_count": 14,
   "metadata": {},
   "outputs": [
    {
     "data": {
      "text/plain": [
       "<matplotlib.legend.Legend at 0x7fd70c9770f0>"
      ]
     },
     "execution_count": 14,
     "metadata": {},
     "output_type": "execute_result"
    },
    {
     "data": {
      "image/png": "[encoded data removed]",
      "text/plain": [
       "<Figure size 432x288 with 1 Axes>"
      ]
     },
     "metadata": {
      "needs_background": "light"
     },
     "output_type": "display_data"
    }
   ],
   "source": [
    "plt.plot(t, res['susceptibles'], label=\"S\")\n",
    "plt.plot(t, res['expuestos'], label=\"E\")\n",
    "plt.plot(t, res['infecciosos'], label=\"I\")\n",
    "plt.plot(t, res['recuperados'], label=\"R\")\n",
    "plt.legend()"
   ]
  },
  {
   "cell_type": "markdown",
   "metadata": {},
   "source": [
    "### Evolución de los enfermos, totales por población"
   ]
  },
  {
   "cell_type": "code",
   "execution_count": 15,
   "metadata": {},
   "outputs": [
    {
     "data": {
      "text/plain": [
       "<matplotlib.legend.Legend at 0x7fd70c8c89b0>"
      ]
     },
     "execution_count": 15,
     "metadata": {},
     "output_type": "execute_result"
    },
    {
     "data": {
      "image/png": "[encoded data removed]",
      "text/plain": [
       "<Figure size 432x288 with 1 Axes>"
      ]
     },
     "metadata": {
      "needs_background": "light"
     },
     "output_type": "display_data"
    }
   ],
   "source": [
    "poblacion = 22000000\n",
    "for var in ['leve', 'grave', 'muertos', 'hospitalizados', 'uci']:\n",
    "    plt.plot(t, np.multiply(res[var], poblacion), label=var)\n",
    "plt.legend()"
   ]
  },
  {
   "cell_type": "markdown",
   "metadata": {},
   "source": [
    "### Uso máximo de UCI"
   ]
  },
  {
   "cell_type": "code",
   "execution_count": 16,
   "metadata": {},
   "outputs": [
    {
     "data": {
      "text/plain": [
       "166366.19668268086"
      ]
     },
     "execution_count": 16,
     "metadata": {},
     "output_type": "execute_result"
    }
   ],
   "source": [
    "max(res[\"uci\"]) * poblacion"
   ]
  },
  {
   "cell_type": "code",
   "execution_count": 17,
   "metadata": {},
   "outputs": [
    {
     "data": {
      "text/plain": [
       "[<matplotlib.lines.Line2D at 0x7fd70c868f98>]"
      ]
     },
     "execution_count": 17,
     "metadata": {},
     "output_type": "execute_result"
    },
    {
     "data": {
      "image/png": "[encoded data removed]",
      "text/plain": [
       "<Figure size 432x288 with 1 Axes>"
      ]
     },
     "metadata": {
      "needs_background": "light"
     },
     "output_type": "display_data"
    }
   ],
   "source": [
    "plt.plot(np.multiply(res[\"uci\"], poblacion))"
   ]
  },
  {
   "cell_type": "markdown",
   "metadata": {},
   "source": [
    "### Muertos al final del periodo"
   ]
  },
  {
   "cell_type": "code",
   "execution_count": 18,
   "metadata": {},
   "outputs": [
    {
     "data": {
      "text/plain": [
       "27807.525633210476"
      ]
     },
     "execution_count": 18,
     "metadata": {},
     "output_type": "execute_result"
    }
   ],
   "source": [
    "max(res[\"muertos\"]) * poblacion"
   ]
  }
 ],
 "metadata": {
  "kernelspec": {
   "display_name": "Python 3",
   "language": "python",
   "name": "python3"
  },
  "language_info": {
   "codemirror_mode": {
    "name": "ipython",
    "version": 3
   },
   "file_extension": ".py",
   "mimetype": "text/x-python",
   "name": "python",
   "nbconvert_exporter": "python",
   "pygments_lexer": "ipython3",
   "version": "3.6.9"
  }
 },
 "nbformat": 4,
 "nbformat_minor": 4
}
