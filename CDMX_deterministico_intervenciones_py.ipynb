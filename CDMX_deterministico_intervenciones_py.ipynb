{
 "cells": [
  {
   "cell_type": "markdown",
   "metadata": {},
   "source": [
    "# Implementación en Python del modelo epidemiológico COVID-19 de CDMX\n",
    "\n",
    "[Modelo publicado por el gobierno de la Ciudad de México](https://modelo.covid19.cdmx.gob.mx/modelo-epidemico)\n",
    "\n",
    "Robado de la implementación original en Julia de [@ollin18](https://github.com/ollin18/ComplexSystems.jl/blob/master/examples/CDMX_model.ipynb)"
   ]
  },
  {
   "cell_type": "markdown",
   "metadata": {},
   "source": [
    "Este notebook es una versión simplificada de [mi reimplementación](CDMX_py.ipynb) del [original](https://github.com/ollin18/ComplexSystems.jl/blob/master/examples/CDMX_model.ipynb).\n",
    "\n",
    "Esta versión es únicamente el modelo determinístico sin consideraciones de variablidad.\n",
    "\n",
    "Implementa la posibilidad de aplicar intervenciones como las especificadas en el sitio de CDMX.\n",
    "\n",
    "![ecuaciones.png](img/ecuaciones.png)\n",
    "\n",
    "Donde:\n",
    "\n",
    "- S = Susceptibles\n",
    "- E = Expuestos\n",
    "- I = Infectados\n",
    "- L = Contagiados sintomáticos leves\n",
    "- G = Contagiados sintomáticos graves\n",
    "- H = Hospitalizados\n",
    "- ICU = Unidad de Terapia Intensiva\n",
    "- R = Recuperados\n",
    "- M = Muertos\n",
    "\n",
    "![modelo](img/variables.png)\n",
    "\n",
    "Los parámetros del modelo pueden ser consultados en la página del modelo o en el [archivo que he respaldado](cdmx_archive) por si hay cambios mas adelante. En la implementación del modelo se puede ver los usados en este caso y a qué corresponden."
   ]
  },
  {
   "cell_type": "code",
   "execution_count": 1,
   "metadata": {},
   "outputs": [],
   "source": [
    "#https://modelo.covid19.cdmx.gob.mx/modelo-epidemico\n",
    "#https://github.com/ollin18/ComplexSystems.jl/blob/master/examples/CDMX_model.ipynb\n",
    "\n",
    "from datetime import datetime, timedelta\n",
    "import numpy as np\n",
    "import matplotlib.pyplot as plt\n",
    "from scipy.integrate import odeint\n",
    "\n",
    "VARS = ['susceptibles', 'infecciosos', 'expuestos', 'leve', \n",
    "        'grave', 'hospitalizados', 'uci', 'recuperados', 'muertos']"
   ]
  },
  {
   "cell_type": "code",
   "execution_count": 2,
   "metadata": {},
   "outputs": [],
   "source": [
    "FMT = \"%Y-%m-%d\"\n",
    "FECHA_INICIO = '2020-02-17'\n",
    "FECHA_FINAL = '2020-12-31'\n",
    "POBLACION = 22000000\n",
    "MULTIPLICADOR_SUBREPORTE = 2\n",
    "INFECCION_INICIAL = MULTIPLICADOR_SUBREPORTE * 4 / POBLACION # Prob(inf) inicial, 4 confirmados en esa fecha, revisar del modelo CDMX\n",
    "\n",
    "MODELAR_INTERVENCIONES = True\n",
    "\n",
    "#Interveciones según modelo CDMX (1)\n",
    "#intervenciones_fechas = ['2020-03-22', '2020-03-31']\n",
    "#intervenciones_R0 = [2.2, 0.95]\n",
    "\n",
    "#Interveciones según modelo CDMX (2), ajustados al 25 de abril, optimista\n",
    "intervenciones_fechas = ['2020-03-22', '2020-04-01', '2020-04-13', '2020-04-20']\n",
    "intervenciones_R0 = [2.2, 0.95, 1.2, 0.95]\n",
    "\n",
    "#Mis intervenciones What-if?\n",
    "#intervenciones_fechas = ['2020-03-22', '2020-04-01', '2020-04-13', '2020-04-20', '2020-07-01', '2020-08-15']\n",
    "#intervenciones_R0 = [2.2, 0.95, 1.2, 0.95, 1.2, 0.95]\n"
   ]
  },
  {
   "cell_type": "markdown",
   "metadata": {},
   "source": [
    "## Implementación\n",
    "\n",
    "Esta es la función que implementa el modelo. Su firma debe ser compatible con la firma que espera [`scipy.integrate.odeint`](https://docs.scipy.org/doc/scipy/reference/generated/scipy.integrate.odeint.html) (ordinary diferential equations).\n",
    "\n",
    "- En `x` se recibe el vector de variables\n",
    "- En `t` es el paso de tiempo que se está ejecutando (en este caso el modelo no cambia en el tiempo)\n",
    "\n",
    "El modelo regresa un arreglo en el mismo formato con el resultado de aplicar las funciones a los K_max ejemplos para el tiempo t."
   ]
  },
  {
   "cell_type": "code",
   "execution_count": 3,
   "metadata": {},
   "outputs": [],
   "source": [
    "def CDMX(x, t):\n",
    "    def iof(ind):\n",
    "        \"\"\"IndexOF: solo sirve para sacar el arreglo de la variable de interés\"\"\"\n",
    "        n = VARS.index(ind)\n",
    "        return x[n]    \n",
    "\n",
    "    #Nombres en el modelo de CDMX (2020-05-14)\n",
    "    R0=2.83291         #Tasa de reproducción estimada, act. 20200515 descrito en \"Proyecciones\"\n",
    "    Dinf=2.9        #Tiempo que es infeccioso el paciente\n",
    "    Dincub=5.2      #Tiempo incubación\n",
    "    Drl=14          #Tiempo recuperación casos intermedios\n",
    "    Dhosp=4         #Días entre síntomas y hospitalización\n",
    "    Drh=12          #Días totales de hospitalización\n",
    "    Duci=1          #**No especificado en modelo: Dias en UCI\n",
    "    Druci=7 #10     #**No especificado en modelo: Dias de recuperacion de UCI\n",
    "    Dm=8            #**No especificado en modelo: Dias a muerte en UCI\n",
    "    pgrav=0.138     #Tasa de hospitalización\n",
    "    puci=0.05       #Tasa de UCI\n",
    "    pm=0.65        #Tasa de mortalidad. 0.03, sin embargo se ha cuestionado si debe ser 0.65\n",
    "    #Otros:\n",
    "    #  Tiempo entre incubación y muerte [dias]: 32 \n",
    "    #  Poblacion susceptible [millones]: 22 (ver en código)\n",
    "\n",
    "    if MODELAR_INTERVENCIONES:\n",
    "        inicio = datetime.strptime(FECHA_INICIO, FMT)\n",
    "        dt_actual = inicio + timedelta(days=int(t))\n",
    "        for index, fecha_interv in enumerate(intervenciones_fechas):\n",
    "            if dt_actual >= datetime.strptime(fecha_interv, FMT):\n",
    "                R0 = intervenciones_R0[index]\n",
    "        #print(R0)\n",
    "                \n",
    "    y = np.zeros(len(x))\n",
    "\n",
    "    d_sus = -(R0/Dinf) * iof('infecciosos') * iof('susceptibles')\n",
    "    d_exp = (R0/Dinf) * iof('infecciosos') * iof('susceptibles') - (1/Dincub)*iof('expuestos')\n",
    "    d_inf = (1/Dincub) * iof('expuestos') - (1/Dinf) * iof('infecciosos')\n",
    "    d_leve = (1-pgrav) * (1/Dinf) * iof('infecciosos') - (1/Drl) * iof('leve')\n",
    "    d_grav = pgrav * (1/Dinf) * iof('infecciosos') - (1/Dhosp) * iof('grave')\n",
    "    d_hosp = (1/Dhosp) * iof('grave') - (1-puci) * (1/Drh) * iof('hospitalizados') \\\n",
    "        - puci * (1/Duci)*iof('hospitalizados')\n",
    "    d_uci = puci * (1/Duci) * iof('hospitalizados') - (1-pm) * (1/Druci) * iof('uci') \\\n",
    "        - pm * (1/Dm) * iof('uci')\n",
    "    d_rec = (1/Drl) * iof('leve') + (1-puci) * (1/Drh) * iof('hospitalizados') \\\n",
    "        + (1-pm) * (1/Druci) * iof('uci')\n",
    "    d_mue = pm * (1/Dm) * iof('uci')\n",
    "\n",
    "    y[0] = d_sus\n",
    "    y[1] = d_inf\n",
    "    y[2] = d_exp\n",
    "    y[3] = d_leve\n",
    "    y[4] = d_grav\n",
    "    y[5] = d_hosp\n",
    "    y[6] = d_uci\n",
    "    y[7] = d_rec\n",
    "    y[8] = d_mue\n",
    "            \n",
    "    return y"
   ]
  },
  {
   "cell_type": "markdown",
   "metadata": {},
   "source": [
    "### Ejecución del modelo"
   ]
  },
  {
   "cell_type": "markdown",
   "metadata": {},
   "source": [
    "Inicialización de la matriz de variables"
   ]
  },
  {
   "cell_type": "code",
   "execution_count": 4,
   "metadata": {},
   "outputs": [],
   "source": [
    "init = [(1 - INFECCION_INICIAL), INFECCION_INICIAL, 0, 0, 0, 0, 0, 0, 0]"
   ]
  },
  {
   "cell_type": "markdown",
   "metadata": {},
   "source": [
    "Ejecución del modelo, resuelve el sistema de ecuaciones diferenciales en los tiempos definidos en `t` (días)"
   ]
  },
  {
   "cell_type": "code",
   "execution_count": 5,
   "metadata": {},
   "outputs": [],
   "source": [
    "inicial = datetime.strptime(FECHA_INICIO, FMT)\n",
    "dias_por_modelar = (datetime.strptime(FECHA_FINAL, FMT) - inicial).days\n",
    "t = np.arange(0, dias_por_modelar, 1)\n",
    "t_labels = [(inicial+timedelta(days=int(d))).strftime(FMT) for d in t]"
   ]
  },
  {
   "cell_type": "code",
   "execution_count": 6,
   "metadata": {
    "scrolled": true
   },
   "outputs": [],
   "source": [
    "y1 = odeint(CDMX, init, t)"
   ]
  },
  {
   "cell_type": "code",
   "execution_count": 7,
   "metadata": {},
   "outputs": [
    {
     "data": {
      "text/plain": [
       "(318, 9)"
      ]
     },
     "execution_count": 7,
     "metadata": {},
     "output_type": "execute_result"
    }
   ],
   "source": [
    "y1.shape"
   ]
  },
  {
   "cell_type": "code",
   "execution_count": 8,
   "metadata": {},
   "outputs": [
    {
     "name": "stdout",
     "output_type": "stream",
     "text": [
      "(9,)\n"
     ]
    },
    {
     "data": {
      "text/plain": [
       "array([9.99999062e-01, 2.63312530e-07, 4.71620186e-07, 1.62092229e-07,\n",
       "       2.17140516e-08, 5.69734842e-09, 1.94489392e-10, 1.28642847e-08,\n",
       "       9.85871708e-12])"
      ]
     },
     "execution_count": 8,
     "metadata": {},
     "output_type": "execute_result"
    }
   ],
   "source": [
    "#Un paso en el tiempo, día 2\n",
    "print(y1[2].shape)\n",
    "y1[2]"
   ]
  },
  {
   "cell_type": "markdown",
   "metadata": {},
   "source": [
    "Los resultados se obtienen tras sumar los de cada ejemplo"
   ]
  },
  {
   "cell_type": "code",
   "execution_count": 9,
   "metadata": {},
   "outputs": [],
   "source": [
    "res = {}\n",
    "for index, var in enumerate(VARS):\n",
    "    res[var] = [ye[index] for ye in y1]\n",
    "#res"
   ]
  },
  {
   "cell_type": "markdown",
   "metadata": {},
   "source": [
    "## Resultados\n",
    "### Suceptibles,  Expuestos, Infectados y Recuperados como proporción de la población"
   ]
  },
  {
   "cell_type": "code",
   "execution_count": 10,
   "metadata": {},
   "outputs": [
    {
     "data": {
      "text/plain": [
       "<matplotlib.legend.Legend at 0x7f64550bc588>"
      ]
     },
     "execution_count": 10,
     "metadata": {},
     "output_type": "execute_result"
    },
    {
     "data": {
      "image/png": "[encoded data removed]",
      "text/plain": [
       "<Figure size 432x288 with 1 Axes>"
      ]
     },
     "metadata": {
      "needs_background": "light"
     },
     "output_type": "display_data"
    }
   ],
   "source": [
    "plt.plot(t, res['susceptibles'], label=\"S\", )\n",
    "plt.plot(t, res['expuestos'], label=\"E\")\n",
    "plt.plot(t, res['infecciosos'], label=\"I\")\n",
    "plt.plot(t, res['recuperados'], label=\"R\")\n",
    "plt.legend()"
   ]
  },
  {
   "cell_type": "markdown",
   "metadata": {},
   "source": [
    "### Evolución de los enfermos, totales por población"
   ]
  },
  {
   "cell_type": "code",
   "execution_count": 11,
   "metadata": {},
   "outputs": [
    {
     "data": {
      "text/plain": [
       "<matplotlib.legend.Legend at 0x7f645506f898>"
      ]
     },
     "execution_count": 11,
     "metadata": {},
     "output_type": "execute_result"
    },
    {
     "data": {
      "image/png": "[encoded data removed]",
      "text/plain": [
       "<Figure size 432x288 with 1 Axes>"
      ]
     },
     "metadata": {
      "needs_background": "light"
     },
     "output_type": "display_data"
    }
   ],
   "source": [
    "for var in ['leve', 'grave', 'muertos', 'hospitalizados', 'uci']:\n",
    "    plt.plot(t, np.multiply(res[var], POBLACION), label=var)\n",
    "    #plt.yscale('log')\n",
    "plt.legend()"
   ]
  },
  {
   "cell_type": "markdown",
   "metadata": {},
   "source": [
    "### Uso máximo de UCI"
   ]
  },
  {
   "cell_type": "code",
   "execution_count": 12,
   "metadata": {},
   "outputs": [
    {
     "data": {
      "text/plain": [
       "689.519014731685"
      ]
     },
     "execution_count": 12,
     "metadata": {},
     "output_type": "execute_result"
    }
   ],
   "source": [
    "max(res[\"uci\"]) * POBLACION"
   ]
  },
  {
   "cell_type": "code",
   "execution_count": 13,
   "metadata": {},
   "outputs": [
    {
     "data": {
      "text/plain": [
       "[<matplotlib.lines.Line2D at 0x7f6454b2aac8>]"
      ]
     },
     "execution_count": 13,
     "metadata": {},
     "output_type": "execute_result"
    },
    {
     "data": {
      "image/png": "[encoded data removed]",
      "text/plain": [
       "<Figure size 432x288 with 1 Axes>"
      ]
     },
     "metadata": {
      "needs_background": "light"
     },
     "output_type": "display_data"
    }
   ],
   "source": [
    "uci = np.multiply(res[\"uci\"], POBLACION)\n",
    "plt.plot(uci)"
   ]
  },
  {
   "cell_type": "code",
   "execution_count": 14,
   "metadata": {},
   "outputs": [
    {
     "data": {
      "text/plain": [
       "<matplotlib.axes._subplots.AxesSubplot at 0x7f644ddb9cc0>"
      ]
     },
     "execution_count": 14,
     "metadata": {},
     "output_type": "execute_result"
    },
    {
     "data": {
      "image/png": "[encoded data removed]",
      "text/plain": [
       "<Figure size 432x288 with 1 Axes>"
      ]
     },
     "metadata": {
      "needs_background": "light"
     },
     "output_type": "display_data"
    }
   ],
   "source": [
    "import pandas as pd\n",
    "d = pd.DataFrame({'fecha':t_labels, 'uci':uci})\n",
    "#d['fecha'] = pd.to_datetime(d['fecha']).dt.date\n",
    "d = d.set_index('fecha')\n",
    "d.index = pd.to_datetime(d.index)\n",
    "d.plot()"
   ]
  },
  {
   "cell_type": "code",
   "execution_count": 15,
   "metadata": {},
   "outputs": [
    {
     "data": {
      "text/plain": [
       "<matplotlib.axes._subplots.AxesSubplot at 0x7f6449a5b198>"
      ]
     },
     "execution_count": 15,
     "metadata": {},
     "output_type": "execute_result"
    },
    {
     "data": {
      "image/png": "[encoded data removed]",
      "text/plain": [
       "<Figure size 432x288 with 1 Axes>"
      ]
     },
     "metadata": {
      "needs_background": "light"
     },
     "output_type": "display_data"
    }
   ],
   "source": [
    "d[\"uci\"].rolling(window=2).sum().plot()"
   ]
  },
  {
   "cell_type": "markdown",
   "metadata": {},
   "source": [
    "En la publicación de CDMX usa *intubados simultaneos* por lo que habría que sumar los intubados por día durante el tiempo que permanecen intubados (creo)"
   ]
  },
  {
   "cell_type": "markdown",
   "metadata": {},
   "source": [
    "### Muertos al final del periodo\n",
    "¿Esto será por día, max o sum?"
   ]
  },
  {
   "cell_type": "code",
   "execution_count": 16,
   "metadata": {},
   "outputs": [
    {
     "data": {
      "text/plain": [
       "8578.254226310386"
      ]
     },
     "execution_count": 16,
     "metadata": {},
     "output_type": "execute_result"
    }
   ],
   "source": [
    "max(np.multiply(res[\"muertos\"], POBLACION))"
   ]
  },
  {
   "cell_type": "markdown",
   "metadata": {},
   "source": [
    "## Pruebas"
   ]
  },
  {
   "cell_type": "code",
   "execution_count": 17,
   "metadata": {},
   "outputs": [
    {
     "data": {
      "text/plain": [
       "[<matplotlib.lines.Line2D at 0x7f6449949ef0>]"
      ]
     },
     "execution_count": 17,
     "metadata": {},
     "output_type": "execute_result"
    },
    {
     "data": {
      "image/png": "[encoded data removed]",
      "text/plain": [
       "<Figure size 432x288 with 1 Axes>"
      ]
     },
     "metadata": {
      "needs_background": "light"
     },
     "output_type": "display_data"
    }
   ],
   "source": [
    "fig, ax = plt.subplots()\n",
    "plt.plot(t, np.multiply(res['infecciosos'], POBLACION))"
   ]
  }
 ],
 "metadata": {
  "kernelspec": {
   "display_name": "Python 3",
   "language": "python",
   "name": "python3"
  },
  "language_info": {
   "codemirror_mode": {
    "name": "ipython",
    "version": 3
   },
   "file_extension": ".py",
   "mimetype": "text/x-python",
   "name": "python",
   "nbconvert_exporter": "python",
   "pygments_lexer": "ipython3",
   "version": "3.6.9"
  }
 },
 "nbformat": 4,
 "nbformat_minor": 4
}
