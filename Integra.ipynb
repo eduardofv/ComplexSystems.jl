{
 "cells": [
  {
   "cell_type": "code",
   "execution_count": null,
   "metadata": {},
   "outputs": [],
   "source": [
    "import numpy as np\n",
    "from scipy.integrate import odeint, solve_ivp\n",
    "import matplotlib.pyplot as plt\n",
    "\n",
    "EXP = -0.3\n",
    "\n",
    "def func(x):\n",
    "    y = (1/(EXP+1)) * np.power(x, EXP+1)\n",
    "    return y\n",
    "    \n",
    "def d_model(y, t, exp=-0.3):\n",
    "    #print(t)\n",
    "    dy = exp * y\n",
    "    return dy\n",
    "\n",
    "\n",
    "#t = np.linspace(0, 100, 100)\n",
    "t = np.arange(0, 101, 1)\n",
    "print(t)\n",
    "y0 = 5\n",
    "\n",
    "#y = func(t)\n",
    "#print(y)\n",
    "#plt.plot(t, y)\n",
    "#plt.show()\n",
    "\n",
    "#dy = d_model(t, y0)\n",
    "#plt.plot(x, dy)\n",
    "#plt.show()"
   ]
  },
  {
   "cell_type": "markdown",
   "metadata": {},
   "source": [
    "Entiendo que odeint es legacy o algo así, pero da los mismos resultados que heun en CDMX (pero no Euler)"
   ]
  },
  {
   "cell_type": "code",
   "execution_count": 2,
   "metadata": {
    "scrolled": false
   },
   "outputs": [
    {
     "name": "stdout",
     "output_type": "stream",
     "text": [
      "[  0   1   2   3   4   5   6   7   8   9  10  11  12  13  14  15  16  17\n",
      "  18  19  20  21  22  23  24  25  26  27  28  29  30  31  32  33  34  35\n",
      "  36  37  38  39  40  41  42  43  44  45  46  47  48  49  50  51  52  53\n",
      "  54  55  56  57  58  59  60  61  62  63  64  65  66  67  68  69  70  71\n",
      "  72  73  74  75  76  77  78  79  80  81  82  83  84  85  86  87  88  89\n",
      "  90  91  92  93  94  95  96  97  98  99 100]\n",
      "[[ 5.00000000e+00]\n",
      " [ 3.70409112e+00]\n",
      " [ 2.74405824e+00]\n",
      " [ 2.03284840e+00]\n",
      " [ 1.50597112e+00]\n",
      " [ 1.11565084e+00]\n",
      " [ 8.26494442e-01]\n",
      " [ 6.12282120e-01]\n",
      " [ 4.53589736e-01]\n",
      " [ 3.36027529e-01]\n",
      " [ 2.48935308e-01]\n",
      " [ 1.84415805e-01]\n",
      " [ 1.36618587e-01]\n",
      " [ 1.01209544e-01]\n",
      " [ 7.49778749e-02]\n",
      " [ 5.55449762e-02]\n",
      " [ 4.11487322e-02]\n",
      " [ 3.04837315e-02]\n",
      " [ 2.25829049e-02]\n",
      " [ 1.67298277e-02]\n",
      " [ 1.23937618e-02]\n",
      " [ 9.18152476e-03]\n",
      " [ 6.80184114e-03]\n",
      " [ 5.03892799e-03]\n",
      " [ 3.73292982e-03]\n",
      " [ 2.76542251e-03]\n",
      " [ 2.04867547e-03]\n",
      " [ 1.51769662e-03]\n",
      " [ 1.12433697e-03]\n",
      " [ 8.32928455e-04]\n",
      " [ 6.17048156e-04]\n",
      " [ 4.57120333e-04]\n",
      " [ 3.38643005e-04]\n",
      " [ 2.50872763e-04]\n",
      " [ 1.85851016e-04]\n",
      " [ 1.37681233e-04]\n",
      " [ 1.01997631e-04]\n",
      " [ 7.55626316e-05]\n",
      " [ 5.59782587e-05]\n",
      " [ 4.14698648e-05]\n",
      " [ 3.07217854e-05]\n",
      " [ 2.27601223e-05]\n",
      " [ 1.68609784e-05]\n",
      " [ 1.24905164e-05]\n",
      " [ 9.25310708e-06]\n",
      " [ 6.85473120e-06]\n",
      " [ 5.07787881e-06]\n",
      " [ 3.76178528e-06]\n",
      " [ 2.78711238e-06]\n",
      " [ 2.06386864e-06]\n",
      " [ 1.52806628e-06]\n",
      " [ 1.13176876e-06]\n",
      " [ 8.39161434e-07]\n",
      " [ 6.21481203e-07]\n",
      " [ 4.60999968e-07]\n",
      " [ 3.41794954e-07]\n",
      " [ 2.53786526e-07]\n",
      " [ 1.88736738e-07]\n",
      " [ 1.40091939e-07]\n",
      " [ 1.03423617e-07]\n",
      " [ 7.47483833e-08]\n",
      " [ 5.58351155e-08]\n",
      " [ 4.10525263e-08]\n",
      " [ 2.99371628e-08]\n",
      " [ 2.21585515e-08]\n",
      " [ 1.64467180e-08]\n",
      " [ 1.24259873e-08]\n",
      " [ 9.36010904e-09]\n",
      " [ 7.08060264e-09]\n",
      " [ 5.31312461e-09]\n",
      " [ 3.98428873e-09]\n",
      " [ 2.97041073e-09]\n",
      " [ 2.22053526e-09]\n",
      " [ 1.65657579e-09]\n",
      " [ 1.24122362e-09]\n",
      " [ 9.29390231e-10]\n",
      " [ 6.97115357e-10]\n",
      " [ 5.10135489e-10]\n",
      " [ 2.64539067e-10]\n",
      " [ 5.44741688e-11]\n",
      " [-1.20059204e-10]\n",
      " [-2.59061052e-10]\n",
      " [-3.62531376e-10]\n",
      " [-4.30470174e-10]\n",
      " [-4.62877447e-10]\n",
      " [-4.59753196e-10]\n",
      " [-4.21097420e-10]\n",
      " [-3.46910119e-10]\n",
      " [-3.54990132e-10]\n",
      " [-3.78672092e-10]\n",
      " [-3.92973787e-10]\n",
      " [-3.97895217e-10]\n",
      " [-3.93436381e-10]\n",
      " [-3.79597280e-10]\n",
      " [-3.56377913e-10]\n",
      " [-3.23778281e-10]\n",
      " [-2.81798383e-10]\n",
      " [-2.30438220e-10]\n",
      " [-2.05501162e-10]\n",
      " [-1.89835128e-10]\n",
      " [-1.74169094e-10]]\n"
     ]
    },
    {
     "data": {
      "text/plain": [
       "[<matplotlib.lines.Line2D at 0x7f91ddc0a5c0>]"
      ]
     },
     "execution_count": 2,
     "metadata": {},
     "output_type": "execute_result"
    },
    {
     "data": {
      "image/png": "[encoded data removed]",
      "text/plain": [
       "<Figure size 432x288 with 1 Axes>"
      ]
     },
     "metadata": {
      "needs_background": "light"
     },
     "output_type": "display_data"
    }
   ],
   "source": [
    "y = odeint(d_model, y0, t, args=(-0.3,))\n",
    "print(y)\n",
    "plt.plot(t, y)"
   ]
  },
  {
   "cell_type": "markdown",
   "metadata": {},
   "source": [
    "No entendí esto, https://docs.scipy.org/doc/scipy/reference/generated/scipy.integrate.solve_ivp.html#scipy.integrate.solve_ivp"
   ]
  },
  {
   "cell_type": "code",
   "execution_count": 15,
   "metadata": {},
   "outputs": [
    {
     "name": "stdout",
     "output_type": "stream",
     "text": [
      "[  0   1   2   3   4   5   6   7   8   9  10  11  12  13  14  15  16  17\n",
      "  18  19  20  21  22  23  24  25  26  27  28  29  30  31  32  33  34  35\n",
      "  36  37  38  39  40  41  42  43  44  45  46  47  48  49  50  51  52  53\n",
      "  54  55  56  57  58  59  60  61  62  63  64  65  66  67  68  69  70  71\n",
      "  72  73  74  75  76  77  78  79  80  81  82  83  84  85  86  87  88  89\n",
      "  90  91  92  93  94  95  96  97  98  99 100]\n",
      "[[ 5.00000e+00  4.85000e+00  4.40000e+00  3.65000e+00  2.60000e+00\n",
      "   1.25000e+00 -4.00000e-01 -2.35000e+00 -4.60000e+00 -7.15000e+00\n",
      "  -1.00000e+01 -1.31500e+01 -1.66000e+01 -2.03500e+01 -2.44000e+01\n",
      "  -2.87500e+01 -3.34000e+01 -3.83500e+01 -4.36000e+01 -4.91500e+01\n",
      "  -5.50000e+01 -6.11500e+01 -6.76000e+01 -7.43500e+01 -8.14000e+01\n",
      "  -8.87500e+01 -9.64000e+01 -1.04350e+02 -1.12600e+02 -1.21150e+02\n",
      "  -1.30000e+02 -1.39150e+02 -1.48600e+02 -1.58350e+02 -1.68400e+02\n",
      "  -1.78750e+02 -1.89400e+02 -2.00350e+02 -2.11600e+02 -2.23150e+02\n",
      "  -2.35000e+02 -2.47150e+02 -2.59600e+02 -2.72350e+02 -2.85400e+02\n",
      "  -2.98750e+02 -3.12400e+02 -3.26350e+02 -3.40600e+02 -3.55150e+02\n",
      "  -3.70000e+02 -3.85150e+02 -4.00600e+02 -4.16350e+02 -4.32400e+02\n",
      "  -4.48750e+02 -4.65400e+02 -4.82350e+02 -4.99600e+02 -5.17150e+02\n",
      "  -5.35000e+02 -5.53150e+02 -5.71600e+02 -5.90350e+02 -6.09400e+02\n",
      "  -6.28750e+02 -6.48400e+02 -6.68350e+02 -6.88600e+02 -7.09150e+02\n",
      "  -7.30000e+02 -7.51150e+02 -7.72600e+02 -7.94350e+02 -8.16400e+02\n",
      "  -8.38750e+02 -8.61400e+02 -8.84350e+02 -9.07600e+02 -9.31150e+02\n",
      "  -9.55000e+02 -9.79150e+02 -1.00360e+03 -1.02835e+03 -1.05340e+03\n",
      "  -1.07875e+03 -1.10440e+03 -1.13035e+03 -1.15660e+03 -1.18315e+03\n",
      "  -1.21000e+03 -1.23715e+03 -1.26460e+03 -1.29235e+03 -1.32040e+03\n",
      "  -1.34875e+03 -1.37740e+03 -1.40635e+03 -1.43560e+03 -1.46515e+03\n",
      "  -1.49500e+03]]\n"
     ]
    },
    {
     "data": {
      "text/plain": [
       "[<matplotlib.lines.Line2D at 0x7f91dd5aad68>]"
      ]
     },
     "execution_count": 15,
     "metadata": {},
     "output_type": "execute_result"
    },
    {
     "data": {
      "image/png": "[encoded data removed]",
      "text/plain": [
       "<Figure size 432x288 with 1 Axes>"
      ]
     },
     "metadata": {
      "needs_background": "light"
     },
     "output_type": "display_data"
    }
   ],
   "source": [
    "y = solve_ivp(d_model, (0, 100), [y0], t_eval=t, args=(-0.3,))\n",
    "print(y.t)\n",
    "print(y.y)\n",
    "plt.plot(y.t, y.y[0])"
   ]
  }
 ],
 "metadata": {
  "kernelspec": {
   "display_name": "Python 3",
   "language": "python",
   "name": "python3"
  },
  "language_info": {
   "codemirror_mode": {
    "name": "ipython",
    "version": 3
   },
   "file_extension": ".py",
   "mimetype": "text/x-python",
   "name": "python",
   "nbconvert_exporter": "python",
   "pygments_lexer": "ipython3",
   "version": "3.6.9"
  }
 },
 "nbformat": 4,
 "nbformat_minor": 4
}
