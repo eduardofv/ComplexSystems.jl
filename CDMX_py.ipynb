{
 "cells": [
  {
   "cell_type": "code",
   "execution_count": 1,
   "metadata": {},
   "outputs": [],
   "source": [
    "#https://modelo.covid19.cdmx.gob.mx/modelo-epidemico\n",
    "#https://github.com/ollin18/ComplexSystems.jl/blob/master/examples/CDMX_model.ipynb\n",
    "\n",
    "import numpy as np\n",
    "import matplotlib.pyplot as plt\n",
    "\n",
    "VARS = ['susceptibles', 'infecciosos', 'expuestos', 'leve', 'grave', 'hospitalizados', 'uci', 'recuperados', 'muertos']\n",
    "\n",
    "#por qué necesita esta distribucion?\n",
    "def degree_dist(p, k_max):\n",
    "    pk = np.zeros(k_max)\n",
    "    #print(pk)\n",
    "    for k in range(k_max-1):\n",
    "        pk[k+1] = (1 - np.exp(-p)) * np.exp(-p * k)\n",
    "    #print(pk)\n",
    "    return pk\n",
    "\n",
    "#Genera una matriz con los casos a probar (simulaciones?)\n",
    "#[sus1 sus2 ... inf1 inf2 ... exp1 exp2 ... leve1 ... leve2 ...]\n",
    "#inicia solo con susceptibles e infectados, lo demás en cero\n",
    "def make_proportions(compart_num, init_infec):\n",
    "    susceptible = 1 - prop_inf\n",
    "    initial = np.array([susceptible, init_infec])\n",
    "    for n in range(compart_num-2):\n",
    "        initial = np.vstack((initial, np.zeros(len(init_infec))))\n",
    "    return initial.flatten()"
   ]
  },
  {
   "cell_type": "code",
   "execution_count": 2,
   "metadata": {},
   "outputs": [],
   "source": [
    "def CDMX(x, t, k_max, prop_deg):\n",
    "    def iof(ind):\n",
    "        n = VARS.index(ind)\n",
    "        return x[(n * k_max):((n+1) * k_max)]    \n",
    "\n",
    "    #Nombres en el modelo de CDMX (2020-05-14)\n",
    "    R0=2.83         #Tasa de reproducción estimada\n",
    "    Dinf=2.9        #Tiempo que es infeccioso el paciente\n",
    "    Dincub=5.2      #Tiempo incubación\n",
    "    Drl=14          #Tiempo recuperación casos intermedios\n",
    "    Dhosp=4         #Días entre síntomas y hospitalización\n",
    "    Drh=12          #Días totales de hospitalización\n",
    "    Duci=1          #**No especificado en modelo: Dias en UCI\n",
    "    Druci=7 #10    #**No especificado en modelo: Dias de recuperacion de UCI\n",
    "    Dm=8            #**No especificado en modelo: Dias a muerte en UCI\n",
    "    pgrav=0.138     #Tasa de hospitalización\n",
    "    puci=0.05       #Tasa de UCI\n",
    "    pm=0.030        #Tasa de mortalidad\n",
    "    #Otros:\n",
    "    #  Tiempo entre incubación y muerte [dias]: 32 \n",
    "    #  Poblacion susceptible [millones]: 22 (ver en código)\n",
    "    \n",
    "    y = np.zeros(len(x))\n",
    "    k_mult = np.arange(1, k_max+1) * prop_deg\n",
    "    avg_k = np.sum(k_mult)\n",
    "    further = np.sum(np.multiply(k_mult, iof('expuestos')))\n",
    "    th = further / avg_k\n",
    "    \n",
    "    for k in range(k_max):\n",
    "        d_sus = -(R0/Dinf) * iof('infecciosos')[k] * iof('susceptibles')[k]\n",
    "        d_exp = (R0/Dinf) * iof('infecciosos')[k] * iof('susceptibles')[k] - (1/Dincub)*iof('expuestos')[k]\n",
    "        d_inf = (1/Dincub) * iof('expuestos')[k] - (1/Dinf) * iof('infecciosos')[k]\n",
    "        d_leve = (1-pgrav) * (1/Dinf) * iof('infecciosos')[k] - (1/Drl) * iof('leve')[k]\n",
    "        d_grav = pgrav * (1/Dinf) * iof('infecciosos')[k] - (1/Dhosp) * iof('grave')[k]\n",
    "        d_hosp = (1/Dhosp) * iof('grave')[k] - (1-puci) * (1/Drh) * iof('hospitalizados')[k] \\\n",
    "            - puci * (1/Duci)*iof('hospitalizados')[k]\n",
    "        d_uci = puci * (1/Duci) * iof('hospitalizados')[k] - (1-pm) * (1/Druci) * iof('uci')[k] \\\n",
    "            - pm * (1/Dm) * iof('uci')[k]\n",
    "        d_rec = (1/Drl) * iof('leve')[k] + (1-puci) * (1/Drh) * iof('hospitalizados')[k] \\\n",
    "            + (1-pm) * (1/Druci) * iof('uci')[k]\n",
    "        d_mue = pm * (1/Dm) * iof('uci')[k]\n",
    "\n",
    "        y[k] = d_sus\n",
    "        y[k_max + k] = d_inf\n",
    "        y[2*k_max + k] = d_exp\n",
    "        y[3*k_max + k] = d_leve\n",
    "        y[4*k_max + k] = d_grav\n",
    "        y[5*k_max + k] = d_hosp\n",
    "        y[6*k_max + k] = d_uci\n",
    "        y[7*k_max + k] = d_rec\n",
    "        y[8*k_max + k] = d_mue\n",
    "            \n",
    "    return y"
   ]
  },
  {
   "cell_type": "code",
   "execution_count": 3,
   "metadata": {},
   "outputs": [
    {
     "data": {
      "text/plain": [
       "array([7.39239758e-03, 5.09136537e-03, 2.94782709e-03, 6.03577022e-03,\n",
       "       6.19948141e-03, 1.32279704e-03, 2.39020849e-03, 8.16309090e-03,\n",
       "       3.52334055e-05, 8.58230073e-03, 6.87136498e-03, 7.70094970e-03,\n",
       "       9.73866277e-04, 4.16468212e-03, 7.24379147e-03, 6.50456677e-03,\n",
       "       7.98855464e-04, 2.69112469e-03, 6.33132469e-05, 7.09087813e-03,\n",
       "       2.21849685e-03, 3.80513634e-03, 7.30729429e-03, 7.79889484e-03,\n",
       "       2.42967758e-03, 5.68644878e-03, 5.91829081e-03, 7.73100076e-03,\n",
       "       2.24547898e-03, 1.92336644e-03, 4.05299267e-03, 8.57209370e-03,\n",
       "       3.83091824e-03, 5.26631906e-03, 7.48857987e-03, 8.72644422e-03,\n",
       "       4.03129707e-03, 7.10882673e-03, 7.26387668e-03, 3.45298983e-03,\n",
       "       7.28344755e-03, 3.40060768e-03, 6.25051299e-03, 7.43027255e-03,\n",
       "       4.71017548e-03, 4.37730983e-03, 5.45004821e-03, 6.42441298e-03,\n",
       "       7.44722977e-03, 2.04255607e-03, 2.15951201e-03, 4.42604897e-03,\n",
       "       6.96412238e-03, 2.55491400e-03, 4.72698845e-03, 6.96044616e-03,\n",
       "       7.26053862e-03, 6.55983414e-03, 1.42020152e-03, 8.86589106e-03,\n",
       "       6.97552376e-03, 3.57906580e-03, 1.79156310e-03, 8.86901641e-03,\n",
       "       7.50223608e-03, 8.38619631e-03, 1.85748903e-03, 6.76792753e-03,\n",
       "       7.66665458e-03, 9.39832681e-03, 1.03622361e-03, 5.91706921e-03,\n",
       "       7.90748524e-03, 6.92195979e-03, 7.27568444e-03, 1.90923231e-03,\n",
       "       5.26939439e-03, 8.24158371e-03, 7.15565441e-03, 1.60653777e-03,\n",
       "       6.50493733e-03, 5.73549776e-03, 5.66809750e-03, 7.73257259e-03,\n",
       "       8.00060284e-03, 3.94496443e-03, 2.84121745e-03, 7.04825348e-03,\n",
       "       9.22456463e-03, 2.39165478e-03, 8.05834767e-03, 9.38568186e-03,\n",
       "       7.96411051e-03, 3.99934234e-03, 4.46642125e-03, 4.85594152e-03,\n",
       "       2.40856339e-03, 7.66271244e-04, 7.75438829e-03, 8.51039015e-03,\n",
       "       2.39383928e-03, 4.95058800e-03, 1.90856848e-03, 6.01136565e-03,\n",
       "       3.02499221e-03, 8.75621938e-03, 7.07907100e-04, 4.50306672e-04,\n",
       "       6.73821159e-03, 1.06354180e-03, 9.03186365e-03, 1.31993724e-03,\n",
       "       6.26356421e-03, 7.79921696e-03, 4.82543438e-03, 6.53319422e-03,\n",
       "       1.45007487e-03, 6.67776988e-03, 2.96757519e-03, 8.47369978e-03,\n",
       "       7.98868393e-03, 2.92485097e-04, 4.79512575e-03, 7.39362459e-03,\n",
       "       1.14766679e-03, 1.80391193e-03, 1.55038499e-03, 4.41071711e-03,\n",
       "       5.62326753e-03, 8.72250344e-03, 4.11765247e-04, 1.51071993e-03,\n",
       "       2.28212346e-03, 1.42084425e-03, 2.53328123e-03, 1.82724699e-03,\n",
       "       8.31326085e-03, 5.17622277e-03, 6.67215243e-03, 2.41012503e-03,\n",
       "       3.41653205e-03, 3.71952122e-03, 2.33340937e-03, 2.06869384e-03,\n",
       "       1.70621921e-03, 4.97267482e-03, 8.84591470e-03, 7.41082594e-03,\n",
       "       1.20429146e-03, 5.49997061e-03, 4.24888283e-03, 8.27537452e-03,\n",
       "       1.86848341e-03, 1.92370247e-03, 7.91873836e-03, 9.35194670e-03,\n",
       "       7.43521780e-03, 4.16708335e-03, 4.84183619e-03, 1.90162883e-03,\n",
       "       3.45454174e-03, 7.35604027e-03, 7.51855951e-03, 6.00363601e-03,\n",
       "       5.30867390e-03, 6.29451077e-03, 3.69732038e-03, 3.22433522e-03,\n",
       "       1.05092153e-03, 7.09330934e-03, 4.11328731e-03, 8.55969871e-03,\n",
       "       4.47175498e-03, 4.69144817e-03, 6.61188931e-03, 1.25805834e-03,\n",
       "       3.26209316e-03, 2.73203062e-03, 7.16498804e-03, 7.45684687e-03,\n",
       "       8.69969732e-03, 3.93632647e-03, 3.19384387e-03, 9.06632212e-03,\n",
       "       6.38995197e-03, 1.26070991e-03, 6.10905000e-03, 1.79892638e-03,\n",
       "       1.58000659e-03, 7.91559435e-03, 4.45881684e-03, 7.32991317e-03,\n",
       "       6.66481846e-03, 3.38309461e-05, 6.53552461e-03, 3.05128383e-03,\n",
       "       9.04330075e-03, 6.48144922e-03, 3.16617979e-03, 2.08157314e-03])"
      ]
     },
     "execution_count": 3,
     "metadata": {},
     "output_type": "execute_result"
    }
   ],
   "source": [
    "#numero de \"escenarios\"\n",
    "k_max = 200\n",
    "\n",
    "p = 0.4\n",
    "infec = np.random.rand(k_max)\n",
    "all_infec = sum(infec)\n",
    "prop_inf = infec / all_infec\n",
    "prop_inf"
   ]
  },
  {
   "cell_type": "code",
   "execution_count": 4,
   "metadata": {},
   "outputs": [
    {
     "data": {
      "text/plain": [
       "98.60490298476017"
      ]
     },
     "execution_count": 4,
     "metadata": {},
     "output_type": "execute_result"
    }
   ],
   "source": [
    "np.sum(prop_inf * np.arange(1, k_max+1))"
   ]
  },
  {
   "cell_type": "code",
   "execution_count": 5,
   "metadata": {},
   "outputs": [
    {
     "data": {
      "text/plain": [
       "1800"
      ]
     },
     "execution_count": 5,
     "metadata": {},
     "output_type": "execute_result"
    }
   ],
   "source": [
    "the_proportions = make_proportions(9, prop_inf)\n",
    "the_proportions\n",
    "len(the_proportions)"
   ]
  },
  {
   "cell_type": "code",
   "execution_count": 6,
   "metadata": {},
   "outputs": [
    {
     "name": "stdout",
     "output_type": "stream",
     "text": [
      "[0.         0.32967995 0.22099108 0.14813475 0.09929769 0.06656123\n",
      " 0.04461733 0.02990789 0.02004786 0.01343848]\n"
     ]
    },
    {
     "data": {
      "text/plain": [
       "[<matplotlib.lines.Line2D at 0x7f3fab1eacf8>]"
      ]
     },
     "execution_count": 6,
     "metadata": {},
     "output_type": "execute_result"
    },
    {
     "data": {
      "image/png": "[encoded data removed]",
      "text/plain": [
       "<Figure size 432x288 with 1 Axes>"
      ]
     },
     "metadata": {
      "needs_background": "light"
     },
     "output_type": "display_data"
    }
   ],
   "source": [
    "#pd es el parámetro prop_deg del modelo (qué es?)\n",
    "pd = degree_dist(p, k_max)\n",
    "print(pd[:10])\n",
    "#sum(pd)\n",
    "plt.plot(pd)"
   ]
  },
  {
   "cell_type": "code",
   "execution_count": 7,
   "metadata": {},
   "outputs": [
    {
     "data": {
      "text/plain": [
       "4.033244781719736"
      ]
     },
     "execution_count": 7,
     "metadata": {},
     "output_type": "execute_result"
    }
   ],
   "source": [
    "np.sum(np.multiply(pd, np.arange(1, k_max+1)))"
   ]
  },
  {
   "cell_type": "code",
   "execution_count": 8,
   "metadata": {},
   "outputs": [],
   "source": [
    "from scipy.integrate import odeint\n",
    "t = np.arange(0, 101, 1)\n",
    "y1 = odeint(CDMX, the_proportions, t, args=(k_max, pd))"
   ]
  },
  {
   "cell_type": "code",
   "execution_count": 9,
   "metadata": {},
   "outputs": [
    {
     "data": {
      "text/plain": [
       "(101, 1800)"
      ]
     },
     "execution_count": 9,
     "metadata": {},
     "output_type": "execute_result"
    }
   ],
   "source": [
    "y1.shape"
   ]
  },
  {
   "cell_type": "code",
   "execution_count": 10,
   "metadata": {},
   "outputs": [
    {
     "name": "stdout",
     "output_type": "stream",
     "text": [
      "(1800,)\n"
     ]
    },
    {
     "data": {
      "text/plain": [
       "array([0.9926076 , 0.99490863, 0.99705217, ..., 0.        , 0.        ,\n",
       "       0.        ])"
      ]
     },
     "execution_count": 10,
     "metadata": {},
     "output_type": "execute_result"
    }
   ],
   "source": [
    "print(y1[0].shape)\n",
    "y1[0]"
   ]
  },
  {
   "cell_type": "code",
   "execution_count": 11,
   "metadata": {
    "scrolled": true
   },
   "outputs": [
    {
     "name": "stdout",
     "output_type": "stream",
     "text": [
      "101\n"
     ]
    },
    {
     "data": {
      "text/plain": [
       "[0.9954546561658805,\n",
       " 0.9916202221429088,\n",
       " 0.9883721046844923,\n",
       " 0.9851671328529135,\n",
       " 0.981697316651493,\n",
       " 0.9777635907632991,\n",
       " 0.9732136991551783,\n",
       " 0.967911315523369,\n",
       " 0.9617206288712017,\n",
       " 0.9544988043362362,\n",
       " 0.9460927467405286,\n",
       " 0.936338544275854,\n",
       " 0.9250629913445576,\n",
       " 0.9120870666056221,\n",
       " 0.8972314559070106,\n",
       " 0.880324250791432,\n",
       " 0.8612108871267063,\n",
       " 0.8397661431221294,\n",
       " 0.8159076770204068,\n",
       " 0.7896101735020779,\n",
       " 0.7609186984291779,\n",
       " 0.729959530062784,\n",
       " 0.6969465115680498,\n",
       " 0.6621812098871924,\n",
       " 0.6260457078648178,\n",
       " 0.5889878010609195,\n",
       " 0.5514996110960565,\n",
       " 0.5140916577068309,\n",
       " 0.4772652748264987,\n",
       " 0.44148648456720563,\n",
       " 0.40716406104344455,\n",
       " 0.37463374584932296,\n",
       " 0.34414943931433883,\n",
       " 0.31588122496707605,\n",
       " 0.2899192496401021,\n",
       " 0.26628197076945614,\n",
       " 0.24492719611845556,\n",
       " 0.22576440589243904,\n",
       " 0.208667137904074,\n",
       " 0.19348455787401303,\n",
       " 0.18005164394377113,\n",
       " 0.16819770795242694,\n",
       " 0.1577531700421515,\n",
       " 0.14855466147115248,\n",
       " 0.1404486386192806,\n",
       " 0.13329373201661837,\n",
       " 0.1269620852642792,\n",
       " 0.12133992806967873,\n",
       " 0.11632758724642087,\n",
       " 0.11183909994543258,\n",
       " 0.10780154018109618,\n",
       " 0.10415412153975391,\n",
       " 0.10084710774691634,\n",
       " 0.09784054752646487,\n",
       " 0.09510285415665583,\n",
       " 0.09260927305979796,\n",
       " 0.0903403094930503,\n",
       " 0.08828021165579754,\n",
       " 0.08641561402641992,\n",
       " 0.08473442926731435,\n",
       " 0.08322504498540094,\n",
       " 0.08187583547122548,\n",
       " 0.08067495447613189,\n",
       " 0.07961034698392783,\n",
       " 0.07866990202105378,\n",
       " 0.07784167327907807,\n",
       " 0.07711410912891165,\n",
       " 0.07647625220950488,\n",
       " 0.07591788856492615,\n",
       " 0.07542964081317348,\n",
       " 0.07500300923975495,\n",
       " 0.07463037070084333,\n",
       " 0.07430494608060907,\n",
       " 0.07402074710063145,\n",
       " 0.0737725111475832,\n",
       " 0.07355563098602007,\n",
       " 0.07336608419599921,\n",
       " 0.07320036547483379,\n",
       " 0.07305542374916907,\n",
       " 0.07292860497986221,\n",
       " 0.07281760098121663,\n",
       " 0.07272040415230671,\n",
       " 0.07263526779148656,\n",
       " 0.07256067146424852,\n",
       " 0.07249529093974161,\n",
       " 0.07243797214054516,\n",
       " 0.0723877086743721,\n",
       " 0.07234362233698627,\n",
       " 0.07230494622400892,\n",
       " 0.07227101032038742,\n",
       " 0.07224122889874285,\n",
       " 0.0722150896483858,\n",
       " 0.07219214424839106,\n",
       " 0.07217200021921731,\n",
       " 0.07215431378868958,\n",
       " 0.07213878377362581,\n",
       " 0.07212514620641838,\n",
       " 0.07211316966474181,\n",
       " 0.07210265121030852,\n",
       " 0.07209341284039325,\n",
       " 0.07208529840673791]"
      ]
     },
     "execution_count": 11,
     "metadata": {},
     "output_type": "execute_result"
    }
   ],
   "source": [
    "susceptibles = [np.sum(np.multiply(ye[:k_max], pd)) for ye in y1]\n",
    "print(len(susceptibles))\n",
    "susceptibles"
   ]
  },
  {
   "cell_type": "code",
   "execution_count": 12,
   "metadata": {},
   "outputs": [],
   "source": [
    "res = {}\n",
    "for index, var in enumerate(VARS):\n",
    "    fr = k_max * index\n",
    "    to = k_max * (index+1)\n",
    "    res[var] = [np.sum(np.multiply(ye[fr:to], pd)) for ye in y1] "
   ]
  },
  {
   "cell_type": "code",
   "execution_count": 13,
   "metadata": {},
   "outputs": [
    {
     "data": {
      "text/plain": [
       "<matplotlib.legend.Legend at 0x7f3fa2e8cf28>"
      ]
     },
     "execution_count": 13,
     "metadata": {},
     "output_type": "execute_result"
    },
    {
     "data": {
      "image/png": "[encoded data removed]",
      "text/plain": [
       "<Figure size 432x288 with 1 Axes>"
      ]
     },
     "metadata": {
      "needs_background": "light"
     },
     "output_type": "display_data"
    }
   ],
   "source": [
    "plt.plot(t, res['susceptibles'], label=\"S\")\n",
    "plt.plot(t, res['infecciosos'], label=\"I\")\n",
    "plt.plot(t, res['expuestos'], label=\"E\")\n",
    "#y esto por qué crece?\n",
    "plt.plot(t, res['recuperados'], label=\"R\")\n",
    "plt.legend()"
   ]
  },
  {
   "cell_type": "code",
   "execution_count": 14,
   "metadata": {},
   "outputs": [
    {
     "data": {
      "text/plain": [
       "<matplotlib.legend.Legend at 0x7f3fa2e61828>"
      ]
     },
     "execution_count": 14,
     "metadata": {},
     "output_type": "execute_result"
    },
    {
     "data": {
      "image/png": "[encoded data removed]",
      "text/plain": [
       "<Figure size 432x288 with 1 Axes>"
      ]
     },
     "metadata": {
      "needs_background": "light"
     },
     "output_type": "display_data"
    }
   ],
   "source": [
    "poblacion = 22000000\n",
    "for var in ['leve', 'grave', 'muertos', 'hospitalizados', 'uci']:\n",
    "    plt.plot(t, np.multiply(res[var], poblacion), label=var)\n",
    "plt.legend()"
   ]
  },
  {
   "cell_type": "code",
   "execution_count": 15,
   "metadata": {},
   "outputs": [
    {
     "data": {
      "text/plain": [
       "192279.54298831976"
      ]
     },
     "execution_count": 15,
     "metadata": {},
     "output_type": "execute_result"
    }
   ],
   "source": [
    "max(res[\"uci\"]) * poblacion"
   ]
  },
  {
   "cell_type": "code",
   "execution_count": 16,
   "metadata": {},
   "outputs": [
    {
     "data": {
      "text/plain": [
       "28381.478601351886"
      ]
     },
     "execution_count": 16,
     "metadata": {},
     "output_type": "execute_result"
    }
   ],
   "source": [
    "max(res[\"muertos\"]) * poblacion"
   ]
  }
 ],
 "metadata": {
  "kernelspec": {
   "display_name": "Python 3",
   "language": "python",
   "name": "python3"
  },
  "language_info": {
   "codemirror_mode": {
    "name": "ipython",
    "version": 3
   },
   "file_extension": ".py",
   "mimetype": "text/x-python",
   "name": "python",
   "nbconvert_exporter": "python",
   "pygments_lexer": "ipython3",
   "version": "3.6.9"
  }
 },
 "nbformat": 4,
 "nbformat_minor": 4
}
