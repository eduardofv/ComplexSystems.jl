{
 "cells": [
  {
   "cell_type": "markdown",
   "metadata": {},
   "source": [
    "# Implementación en Python del modelo epidemiológico COVID-19 de CDMX\n",
    "\n",
    "[Modelo publicado por el gobierno de la Ciudad de México](https://modelo.covid19.cdmx.gob.mx/modelo-epidemico)\n",
    "\n",
    "Robado de la implementación original en Julia de [@ollin18](https://github.com/ollin18/ComplexSystems.jl/blob/master/examples/CDMX_model.ipynb)"
   ]
  },
  {
   "cell_type": "markdown",
   "metadata": {},
   "source": [
    "[Archivo con los documentos del modelo en el momento de implementar esto](cdmx_archive)\n",
    "\n",
    "El modelo se define como un sistema de ecuaciones diferenciales ordinarias. Se va a resolver para un rango de tiempo definido.\n",
    "\n",
    "![ecuaciones.png](img/ecuaciones.png)\n",
    "\n",
    "Donde:\n",
    "\n",
    "- S = Susceptibles\n",
    "- E = Expuestos\n",
    "- I = Infectados\n",
    "- L = Contagiados sintomáticos leves\n",
    "- G = Contagiados sintomáticos graves\n",
    "- H = Hospitalizados\n",
    "- ICU = Unidad de Terapia Intensiva\n",
    "- R = Recuperados\n",
    "- M = Muertos\n",
    "\n",
    "![modelo](img/variables.png)\n",
    "\n",
    "Los parámetros del modelo pueden ser consultados en la página del modelo o en el [archivo que he respaldado](cdmx_archive) por si hay cambios mas adelante. En la implementación del modelo se puede ver los usados en este caso y a qué corresponden."
   ]
  },
  {
   "cell_type": "code",
   "execution_count": 1,
   "metadata": {},
   "outputs": [],
   "source": [
    "#https://modelo.covid19.cdmx.gob.mx/modelo-epidemico\n",
    "#https://github.com/ollin18/ComplexSystems.jl/blob/master/examples/CDMX_model.ipynb\n",
    "\n",
    "import numpy as np\n",
    "import matplotlib.pyplot as plt\n",
    "from scipy.integrate import odeint\n",
    "\n",
    "\n",
    "VARS = ['susceptibles', 'infecciosos', 'expuestos', 'leve', 'grave', 'hospitalizados', 'uci', 'recuperados', 'muertos']\n",
    "\n",
    "#por qué necesita esta distribucion?\n",
    "def degree_dist(p, k_max):\n",
    "    pk = np.zeros(k_max)\n",
    "    #print(pk)\n",
    "    for k in range(k_max-1):\n",
    "        pk[k+1] = (1 - np.exp(-p)) * np.exp(-p * k)\n",
    "    #print(pk)\n",
    "    return pk"
   ]
  },
  {
   "cell_type": "markdown",
   "metadata": {},
   "source": [
    "Genera una matriz con los 'k_max' casos a probar (simulaciones?)\n",
    "\n",
    "```\n",
    "[sus1 sus2 ... susN inf1 inf2 ... infN exp1 exp2 ... expN leve1 ... leve2 ... etc]\n",
    "```\n",
    "\n",
    "Inicializa solo con los susceptibles e infectados a partir de datos aleatorios, las demás variables en ceros. Esta matriz es la que se utiliza al integrar para resolver el sistema de ecuaciones."
   ]
  },
  {
   "cell_type": "code",
   "execution_count": 2,
   "metadata": {},
   "outputs": [],
   "source": [
    "def make_proportions(compart_num, init_infec):\n",
    "    \"\"\"\n",
    "    Inicializa la matriz de variables del modelo. Quedan en el formato definido en VARS. \n",
    "    Cada variable se reporduce por el número de simulaciones.\n",
    "    \"\"\"\n",
    "    susceptible = 1 - prop_inf\n",
    "    initial = np.array([susceptible, init_infec])\n",
    "    for n in range(compart_num-2):\n",
    "        initial = np.vstack((initial, np.zeros(len(init_infec))))\n",
    "    return initial.flatten()"
   ]
  },
  {
   "cell_type": "markdown",
   "metadata": {},
   "source": [
    "## Implementación\n",
    "\n",
    "Esta es la función que implementa el modelo. Su firma debe ser compatible con la firma que espera [`scipy.integrate.odeint`](https://docs.scipy.org/doc/scipy/reference/generated/scipy.integrate.odeint.html) (ordinary diferential equations).\n",
    "\n",
    "- En `x` se recibe la matriz de variables\n",
    "- En `t` es el paso de tiempo que se está ejecutando (en este caso el modelo no cambia en el tiempo)\n",
    "- En `k_max` - por clarificar\n",
    "- En `prop_deg` probabilidad del número de contactos (revisar modelos de redes en vez de deterministas)\n",
    "\n",
    "El modelo regresa un arreglo en el mismo formato con el resultado de aplicar las funciones a los K_max ejemplos para el tiempo t."
   ]
  },
  {
   "cell_type": "code",
   "execution_count": 3,
   "metadata": {},
   "outputs": [],
   "source": [
    "def CDMX(x, t, k_max, prop_deg):\n",
    "    def iof(ind):\n",
    "        \"\"\"IndexOF: solo sirve para sacar el arreglo de la variable de interés\"\"\"\n",
    "        n = VARS.index(ind)\n",
    "        return x[(n * k_max):((n+1) * k_max)]    \n",
    "\n",
    "    #Nombres en el modelo de CDMX (2020-05-14)\n",
    "    R0=2.83         #Tasa de reproducción estimada\n",
    "    Dinf=2.9        #Tiempo que es infeccioso el paciente\n",
    "    Dincub=5.2      #Tiempo incubación\n",
    "    Drl=14          #Tiempo recuperación casos intermedios\n",
    "    Dhosp=4         #Días entre síntomas y hospitalización\n",
    "    Drh=12          #Días totales de hospitalización\n",
    "    Duci=1          #**No especificado en modelo: Dias en UCI\n",
    "    Druci=7 #10     #**No especificado en modelo: Dias de recuperacion de UCIa\n",
    "    Dm=8            #**No especificado en modelo: Dias a muerte en UCI\n",
    "    pgrav=0.138     #Tasa de hospitalización\n",
    "    puci=0.05       #Tasa de UCI\n",
    "    pm=0.030        #Tasa de mortalidad\n",
    "    #Otros:\n",
    "    #  Tiempo entre incubación y muerte [dias]: 32 \n",
    "    #  Poblacion susceptible [millones]: 22 (ver en código)\n",
    "    \n",
    "    y = np.zeros(len(x))\n",
    "    k_mult = np.arange(1, k_max+1) * prop_deg\n",
    "    avg_k = np.sum(k_mult)\n",
    "    further = np.sum(np.multiply(k_mult, iof('expuestos')))\n",
    "    th = further / avg_k\n",
    "    \n",
    "    for k in range(k_max):\n",
    "        d_sus = -(R0/Dinf) * iof('infecciosos')[k] * iof('susceptibles')[k]\n",
    "        d_exp = (R0/Dinf) * iof('infecciosos')[k] * iof('susceptibles')[k] - (1/Dincub)*iof('expuestos')[k]\n",
    "        d_inf = (1/Dincub) * iof('expuestos')[k] - (1/Dinf) * iof('infecciosos')[k]\n",
    "        d_leve = (1-pgrav) * (1/Dinf) * iof('infecciosos')[k] - (1/Drl) * iof('leve')[k]\n",
    "        d_grav = pgrav * (1/Dinf) * iof('infecciosos')[k] - (1/Dhosp) * iof('grave')[k]\n",
    "        d_hosp = (1/Dhosp) * iof('grave')[k] - (1-puci) * (1/Drh) * iof('hospitalizados')[k] \\\n",
    "            - puci * (1/Duci)*iof('hospitalizados')[k]\n",
    "        d_uci = puci * (1/Duci) * iof('hospitalizados')[k] - (1-pm) * (1/Druci) * iof('uci')[k] \\\n",
    "            - pm * (1/Dm) * iof('uci')[k]\n",
    "        d_rec = (1/Drl) * iof('leve')[k] + (1-puci) * (1/Drh) * iof('hospitalizados')[k] \\\n",
    "            + (1-pm) * (1/Druci) * iof('uci')[k]\n",
    "        d_mue = pm * (1/Dm) * iof('uci')[k]\n",
    "\n",
    "        y[k] = d_sus\n",
    "        y[k_max + k] = d_inf\n",
    "        y[2*k_max + k] = d_exp\n",
    "        y[3*k_max + k] = d_leve\n",
    "        y[4*k_max + k] = d_grav\n",
    "        y[5*k_max + k] = d_hosp\n",
    "        y[6*k_max + k] = d_uci\n",
    "        y[7*k_max + k] = d_rec\n",
    "        y[8*k_max + k] = d_mue\n",
    "            \n",
    "    return y"
   ]
  },
  {
   "cell_type": "markdown",
   "metadata": {},
   "source": [
    "### Ejecución del modelo\n",
    "\n",
    "k_max define el número de ejemplos aleatorios. Cada uno tiene una variabilidad sobre el contagio (R0) ajustado \n",
    "a una ley de potencias (propuesto por @ollin18) y que representa una red con distintos valores de R0."
   ]
  },
  {
   "cell_type": "code",
   "execution_count": 4,
   "metadata": {},
   "outputs": [
    {
     "data": {
      "text/plain": [
       "array([9.79585646e-03, 6.49852044e-03, 6.28762156e-03, 2.04561632e-03,\n",
       "       1.58355178e-03, 8.62017129e-03, 4.96898777e-03, 9.88857190e-03,\n",
       "       5.68370947e-03, 8.45920511e-04, 7.07374522e-03, 7.46600706e-03,\n",
       "       4.20603569e-03, 9.46328985e-03, 3.27796756e-04, 6.83972909e-03,\n",
       "       8.27529661e-04, 1.39298184e-03, 2.90071486e-03, 9.13734892e-03,\n",
       "       2.28530338e-03, 1.98520790e-03, 2.39881403e-03, 2.36488231e-03,\n",
       "       1.26731787e-03, 7.53280778e-03, 6.98171637e-03, 9.80286471e-03,\n",
       "       8.78551821e-04, 3.96911500e-03, 2.46781446e-03, 9.87316585e-03,\n",
       "       9.24049363e-03, 5.13796090e-03, 6.70072958e-03, 1.09210164e-03,\n",
       "       5.15749770e-03, 4.61593019e-03, 3.88123924e-04, 4.91044082e-03,\n",
       "       9.20838938e-03, 6.15914623e-03, 2.22695862e-03, 5.04579314e-03,\n",
       "       5.48089779e-03, 3.80786385e-03, 1.14687394e-03, 2.00594863e-03,\n",
       "       2.04642340e-03, 2.53026585e-03, 5.95799159e-03, 8.38612943e-03,\n",
       "       7.87688382e-03, 3.63500698e-03, 5.87942945e-03, 5.79959738e-04,\n",
       "       2.56641286e-03, 3.99082653e-03, 3.60363447e-03, 4.93558350e-03,\n",
       "       6.62538269e-03, 4.85234888e-03, 3.33569078e-03, 6.16647776e-03,\n",
       "       8.84389383e-03, 9.82503783e-03, 5.27991032e-03, 4.39653935e-03,\n",
       "       5.22239463e-04, 5.86991620e-03, 2.14638220e-03, 5.72567941e-03,\n",
       "       4.26853015e-03, 3.10161251e-03, 5.82319306e-03, 5.23734876e-03,\n",
       "       6.08547381e-04, 8.58918522e-03, 4.45700869e-04, 1.15441439e-03,\n",
       "       7.42900493e-03, 1.33737391e-03, 5.08639333e-03, 1.71535167e-03,\n",
       "       5.96627854e-03, 6.41707459e-03, 9.03450871e-03, 7.32513337e-03,\n",
       "       7.77193605e-03, 6.34840420e-03, 8.44239444e-03, 2.39941067e-03,\n",
       "       5.44767880e-03, 8.36040708e-03, 1.14183132e-03, 6.80918426e-04,\n",
       "       6.27557175e-03, 3.41237458e-03, 8.27938094e-05, 5.78888676e-04,\n",
       "       2.25253853e-03, 7.95703958e-03, 3.28928836e-03, 9.05899819e-03,\n",
       "       8.62396029e-03, 6.44482509e-03, 6.77053479e-03, 9.52239785e-03,\n",
       "       2.44163543e-03, 6.53711487e-03, 7.71220498e-03, 4.22837115e-03,\n",
       "       5.42540855e-03, 2.51235152e-03, 3.97022576e-03, 9.85611778e-04,\n",
       "       6.41017006e-04, 1.49193547e-04, 7.64011458e-03, 6.49694543e-03,\n",
       "       7.95949854e-03, 7.55107260e-03, 7.77020451e-03, 3.88126840e-03,\n",
       "       8.28190909e-03, 3.42915430e-03, 7.59996653e-03, 3.02970427e-03,\n",
       "       2.04376567e-03, 7.77249253e-03, 8.42384472e-03, 5.27991985e-03,\n",
       "       9.21000250e-03, 7.16279761e-03, 5.18994736e-03, 4.63758051e-03,\n",
       "       2.70099103e-03, 3.68452480e-03, 7.14679219e-03, 6.25579969e-03,\n",
       "       2.40203837e-03, 2.72422564e-03, 2.53505611e-03, 9.88276811e-03,\n",
       "       8.74930433e-03, 7.64065122e-03, 3.04860979e-03, 9.81592692e-03,\n",
       "       5.81750068e-03, 1.97110986e-03, 2.69068002e-03, 9.97967792e-03,\n",
       "       3.49257874e-03, 8.00711799e-03, 1.55346888e-03, 4.53653697e-03,\n",
       "       8.98421334e-03, 3.96549844e-03, 6.77614264e-03, 3.25179637e-04,\n",
       "       8.17101923e-03, 9.56912548e-03, 6.61292744e-03, 6.13715412e-03,\n",
       "       6.16571372e-03, 7.31816281e-04, 6.53039710e-03, 4.71053635e-03,\n",
       "       3.47134853e-03, 1.94173835e-03, 9.34893873e-03, 6.39438179e-03,\n",
       "       2.53685220e-03, 1.59596225e-04, 2.57039984e-03, 9.30348186e-03,\n",
       "       8.26059825e-07, 4.20271125e-03, 9.58881001e-03, 8.95161247e-03,\n",
       "       7.43022559e-03, 1.11487950e-03, 5.61886548e-03, 8.22225230e-03,\n",
       "       8.33997297e-03, 9.60219235e-04, 8.15766475e-03, 1.74666366e-03,\n",
       "       7.00874939e-03, 1.85693269e-03, 4.58391458e-03, 2.50582162e-03,\n",
       "       8.73739655e-03, 6.03611002e-04, 2.75648756e-03, 1.23406296e-03,\n",
       "       5.88439465e-03, 4.88041017e-03, 7.38453825e-03, 7.25752509e-03])"
      ]
     },
     "execution_count": 4,
     "metadata": {},
     "output_type": "execute_result"
    }
   ],
   "source": [
    "#numero de \"escenarios\"\n",
    "k_max = 200\n",
    "\n",
    "p = 0.4\n",
    "infec = np.random.rand(k_max)\n",
    "all_infec = sum(infec)\n",
    "prop_inf = infec / all_infec\n",
    "prop_inf"
   ]
  },
  {
   "cell_type": "code",
   "execution_count": 5,
   "metadata": {},
   "outputs": [
    {
     "data": {
      "text/plain": [
       "102.0690711804844"
      ]
     },
     "execution_count": 5,
     "metadata": {},
     "output_type": "execute_result"
    }
   ],
   "source": [
    "np.sum(prop_inf * np.arange(1, k_max+1))"
   ]
  },
  {
   "cell_type": "markdown",
   "metadata": {},
   "source": [
    "Inicialización de la matriz de variables"
   ]
  },
  {
   "cell_type": "code",
   "execution_count": 6,
   "metadata": {},
   "outputs": [
    {
     "data": {
      "text/plain": [
       "1800"
      ]
     },
     "execution_count": 6,
     "metadata": {},
     "output_type": "execute_result"
    }
   ],
   "source": [
    "the_proportions = make_proportions(9, prop_inf)\n",
    "the_proportions\n",
    "len(the_proportions)"
   ]
  },
  {
   "cell_type": "code",
   "execution_count": 7,
   "metadata": {},
   "outputs": [
    {
     "name": "stdout",
     "output_type": "stream",
     "text": [
      "[0.         0.32967995 0.22099108 0.14813475 0.09929769 0.06656123\n",
      " 0.04461733 0.02990789 0.02004786 0.01343848]\n"
     ]
    },
    {
     "data": {
      "text/plain": [
       "[<matplotlib.lines.Line2D at 0x7f6b262a2048>]"
      ]
     },
     "execution_count": 7,
     "metadata": {},
     "output_type": "execute_result"
    },
    {
     "data": {
      "image/png": "[encoded data removed]",
      "text/plain": [
       "<Figure size 432x288 with 1 Axes>"
      ]
     },
     "metadata": {
      "needs_background": "light"
     },
     "output_type": "display_data"
    }
   ],
   "source": [
    "#pd es el parámetro prop_deg del modelo (qué es?)\n",
    "pd = degree_dist(p, k_max)\n",
    "print(pd[:10])\n",
    "#sum(pd)\n",
    "plt.plot(pd)"
   ]
  },
  {
   "cell_type": "code",
   "execution_count": 8,
   "metadata": {},
   "outputs": [
    {
     "data": {
      "text/plain": [
       "4.033244781719736"
      ]
     },
     "execution_count": 8,
     "metadata": {},
     "output_type": "execute_result"
    }
   ],
   "source": [
    "np.sum(np.multiply(pd, np.arange(1, k_max+1)))"
   ]
  },
  {
   "cell_type": "markdown",
   "metadata": {},
   "source": [
    "Ejecución del modelo, resuelve el sistema de ecuaciones diferenciales en los tiempos definidos en `t` (días)"
   ]
  },
  {
   "cell_type": "code",
   "execution_count": 9,
   "metadata": {},
   "outputs": [],
   "source": [
    "t = np.arange(0, 101, 1)\n",
    "y1 = odeint(CDMX, the_proportions, t, args=(k_max, pd))"
   ]
  },
  {
   "cell_type": "code",
   "execution_count": 10,
   "metadata": {},
   "outputs": [
    {
     "data": {
      "text/plain": [
       "(101, 1800)"
      ]
     },
     "execution_count": 10,
     "metadata": {},
     "output_type": "execute_result"
    }
   ],
   "source": [
    "y1.shape"
   ]
  },
  {
   "cell_type": "code",
   "execution_count": 11,
   "metadata": {},
   "outputs": [
    {
     "name": "stdout",
     "output_type": "stream",
     "text": [
      "(1800,)\n"
     ]
    },
    {
     "data": {
      "text/plain": [
       "array([0.99020414, 0.99350148, 0.99371238, ..., 0.        , 0.        ,\n",
       "       0.        ])"
      ]
     },
     "execution_count": 11,
     "metadata": {},
     "output_type": "execute_result"
    }
   ],
   "source": [
    "print(y1[0].shape)\n",
    "y1[0]"
   ]
  },
  {
   "cell_type": "code",
   "execution_count": 12,
   "metadata": {
    "scrolled": true
   },
   "outputs": [
    {
     "name": "stdout",
     "output_type": "stream",
     "text": [
      "101\n"
     ]
    },
    {
     "data": {
      "text/plain": [
       "[0.9946246844811385,\n",
       " 0.9900973966510548,\n",
       " 0.9862667538550172,\n",
       " 0.9824920682163565,\n",
       " 0.9784117918248905,\n",
       " 0.9737941544954202,\n",
       " 0.9684640499853153,\n",
       " 0.9622670233091362,\n",
       " 0.955051671519343,\n",
       " 0.9466615116695664,\n",
       " 0.9369320943983415,\n",
       " 0.9256914515057492,\n",
       " 0.9127631229110452,\n",
       " 0.8979715412763041,\n",
       " 0.881149726472858,\n",
       " 0.8621491982399156,\n",
       " 0.8408518934469984,\n",
       " 0.8171834048923168,\n",
       " 0.7911265521477631,\n",
       " 0.7627337639675524,\n",
       " 0.7321364584013706,\n",
       " 0.6995495348435881,\n",
       " 0.6652693759928675,\n",
       " 0.6296644985959321,\n",
       " 0.5931591784947239,\n",
       " 0.5562115856012898,\n",
       " 0.5192890615644139,\n",
       " 0.48284373372881567,\n",
       " 0.4472914059749161,\n",
       " 0.4129958403308664,\n",
       " 0.3802592304705733,\n",
       " 0.3493184482218631,\n",
       " 0.3203458295563735,\n",
       " 0.29345294560809637,\n",
       " 0.2686960431666314,\n",
       " 0.24608228793072146,\n",
       " 0.22557639127449444,\n",
       " 0.20710749041809146,\n",
       " 0.19057622186198642,\n",
       " 0.17586185692756343,\n",
       " 0.16282925940091286,\n",
       " 0.15133535936042514,\n",
       " 0.1412348454962478,\n",
       " 0.13238486543754396,\n",
       " 0.1246486319635848,\n",
       " 0.1178979510458793,\n",
       " 0.11201478316738296,\n",
       " 0.10689199477001358,\n",
       " 0.10243348252841727,\n",
       " 0.09855384781676624,\n",
       " 0.09517777136790284,\n",
       " 0.0922392125254422,\n",
       " 0.08968052665831715,\n",
       " 0.08745156614702912,\n",
       " 0.08550880979363645,\n",
       " 0.08381454764477181,\n",
       " 0.08233613595349945,\n",
       " 0.08104532858233511,\n",
       " 0.07991768467994642,\n",
       " 0.07893204930100559,\n",
       " 0.07807010154415114,\n",
       " 0.07731596335679652,\n",
       " 0.07665586221661057,\n",
       " 0.07607784118375857,\n",
       " 0.07557151018394859,\n",
       " 0.07512783186883064,\n",
       " 0.07473893861749749,\n",
       " 0.07439797516863725,\n",
       " 0.07409896348211853,\n",
       " 0.07383668649875315,\n",
       " 0.0736065880651944,\n",
       " 0.07340468664577589,\n",
       " 0.07322750080105657,\n",
       " 0.07307198476632548,\n",
       " 0.07293547265161374,\n",
       " 0.07281563006294793,\n",
       " 0.07271041209605406,\n",
       " 0.07261802682691365,\n",
       " 0.07253690353893902,\n",
       " 0.07246566504417357,\n",
       " 0.07240310355077302,\n",
       " 0.07234815960386218,\n",
       " 0.07229990369668314,\n",
       " 0.07225752019428434,\n",
       " 0.07222029328337444,\n",
       " 0.07218759467417465,\n",
       " 0.0721588728378397,\n",
       " 0.07213364358021127,\n",
       " 0.0721114817847633,\n",
       " 0.07209201417562015,\n",
       " 0.07207491297433893,\n",
       " 0.0720598903372772,\n",
       " 0.07204669347730627,\n",
       " 0.07203510038388389,\n",
       " 0.0720249160690751,\n",
       " 0.07201596927174925,\n",
       " 0.07200810956598624,\n",
       " 0.07200120482283795,\n",
       " 0.07199513898203137,\n",
       " 0.07198981009561728,\n",
       " 0.07198512861056924]"
      ]
     },
     "execution_count": 12,
     "metadata": {},
     "output_type": "execute_result"
    }
   ],
   "source": [
    "susceptibles = [np.sum(np.multiply(ye[:k_max], pd)) for ye in y1]\n",
    "print(len(susceptibles))\n",
    "susceptibles"
   ]
  },
  {
   "cell_type": "markdown",
   "metadata": {},
   "source": [
    "Los resultados se obtienen tras sumar los de cada ejemplo"
   ]
  },
  {
   "cell_type": "code",
   "execution_count": 13,
   "metadata": {},
   "outputs": [],
   "source": [
    "res = {}\n",
    "for index, var in enumerate(VARS):\n",
    "    fr = k_max * index\n",
    "    to = k_max * (index+1)\n",
    "    res[var] = [np.sum(np.multiply(ye[fr:to], pd)) for ye in y1] "
   ]
  },
  {
   "cell_type": "markdown",
   "metadata": {},
   "source": [
    "## Resultados\n",
    "### Suceptibles,  Expuestos, Infectados y Recuperados como proporción de la población"
   ]
  },
  {
   "cell_type": "code",
   "execution_count": 14,
   "metadata": {},
   "outputs": [
    {
     "data": {
      "text/plain": [
       "<matplotlib.legend.Legend at 0x7f6b25ca0048>"
      ]
     },
     "execution_count": 14,
     "metadata": {},
     "output_type": "execute_result"
    },
    {
     "data": {
      "image/png": "[encoded data removed]",
      "text/plain": [
       "<Figure size 432x288 with 1 Axes>"
      ]
     },
     "metadata": {
      "needs_background": "light"
     },
     "output_type": "display_data"
    }
   ],
   "source": [
    "plt.plot(t, res['susceptibles'], label=\"S\")\n",
    "plt.plot(t, res['expuestos'], label=\"E\")\n",
    "plt.plot(t, res['infecciosos'], label=\"I\")\n",
    "plt.plot(t, res['recuperados'], label=\"R\")\n",
    "plt.legend()"
   ]
  },
  {
   "cell_type": "markdown",
   "metadata": {},
   "source": [
    "### Evolución de los enfermos, totales por población"
   ]
  },
  {
   "cell_type": "code",
   "execution_count": 15,
   "metadata": {},
   "outputs": [
    {
     "data": {
      "text/plain": [
       "<matplotlib.legend.Legend at 0x7f6b25bf12e8>"
      ]
     },
     "execution_count": 15,
     "metadata": {},
     "output_type": "execute_result"
    },
    {
     "data": {
      "image/png": "[encoded data removed]",
      "text/plain": [
       "<Figure size 432x288 with 1 Axes>"
      ]
     },
     "metadata": {
      "needs_background": "light"
     },
     "output_type": "display_data"
    }
   ],
   "source": [
    "poblacion = 22000000\n",
    "for var in ['leve', 'grave', 'muertos', 'hospitalizados', 'uci']:\n",
    "    plt.plot(t, np.multiply(res[var], poblacion), label=var)\n",
    "plt.legend()"
   ]
  },
  {
   "cell_type": "markdown",
   "metadata": {},
   "source": [
    "### Uso máximo de UCI"
   ]
  },
  {
   "cell_type": "code",
   "execution_count": 16,
   "metadata": {},
   "outputs": [
    {
     "data": {
      "text/plain": [
       "193360.57597739008"
      ]
     },
     "execution_count": 16,
     "metadata": {},
     "output_type": "execute_result"
    }
   ],
   "source": [
    "max(res[\"uci\"]) * poblacion"
   ]
  },
  {
   "cell_type": "code",
   "execution_count": 17,
   "metadata": {},
   "outputs": [
    {
     "data": {
      "text/plain": [
       "[<matplotlib.lines.Line2D at 0x7f6b25b9b470>]"
      ]
     },
     "execution_count": 17,
     "metadata": {},
     "output_type": "execute_result"
    },
    {
     "data": {
      "image/png": "[encoded data removed]",
      "text/plain": [
       "<Figure size 432x288 with 1 Axes>"
      ]
     },
     "metadata": {
      "needs_background": "light"
     },
     "output_type": "display_data"
    }
   ],
   "source": [
    "plt.plot(np.multiply(res[\"uci\"], poblacion))"
   ]
  },
  {
   "cell_type": "markdown",
   "metadata": {},
   "source": [
    "### Muertos al final del periodo"
   ]
  },
  {
   "cell_type": "code",
   "execution_count": 18,
   "metadata": {},
   "outputs": [
    {
     "data": {
      "text/plain": [
       "28460.16605471387"
      ]
     },
     "execution_count": 18,
     "metadata": {},
     "output_type": "execute_result"
    }
   ],
   "source": [
    "max(res[\"muertos\"]) * poblacion"
   ]
  }
 ],
 "metadata": {
  "kernelspec": {
   "display_name": "Python 3",
   "language": "python",
   "name": "python3"
  },
  "language_info": {
   "codemirror_mode": {
    "name": "ipython",
    "version": 3
   },
   "file_extension": ".py",
   "mimetype": "text/x-python",
   "name": "python",
   "nbconvert_exporter": "python",
   "pygments_lexer": "ipython3",
   "version": "3.6.9"
  }
 },
 "nbformat": 4,
 "nbformat_minor": 4
}
