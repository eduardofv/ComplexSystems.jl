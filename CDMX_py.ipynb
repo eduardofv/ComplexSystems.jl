{
 "cells": [
  {
   "cell_type": "code",
   "execution_count": 1,
   "metadata": {},
   "outputs": [],
   "source": [
    "#https://modelo.covid19.cdmx.gob.mx/modelo-epidemico\n",
    "#https://github.com/ollin18/ComplexSystems.jl/blob/master/examples/CDMX_model.ipynb\n",
    "\n",
    "import numpy as np\n",
    "import matplotlib.pyplot as plt\n",
    "\n",
    "VARS = ['susceptibles', 'infecciosos', 'expuestos', 'leve', 'grave', 'hospitalizados', 'uci', 'recuperados', 'muertos']\n",
    "\n",
    "#por qué necesita esta distribucion?\n",
    "def degree_dist(p, k_max):\n",
    "    pk = np.zeros(k_max)\n",
    "    #print(pk)\n",
    "    for k in range(k_max-1):\n",
    "        pk[k+1] = (1 - np.exp(-p)) * np.exp(-p * k)\n",
    "    #print(pk)\n",
    "    return pk\n",
    "\n",
    "#Genera una matriz con los casos a probar (simulaciones?)\n",
    "#[sus1 sus2 ... inf1 inf2 ... exp1 exp2 ... leve1 ... leve2 ...]\n",
    "#inicia solo con susceptibles e infectados, lo demás en cero\n",
    "def make_proportions(compart_num, init_infec):\n",
    "    susceptible = 1 - prop_inf\n",
    "    initial = np.array([susceptible, init_infec])\n",
    "    for n in range(compart_num-2):\n",
    "        initial = np.vstack((initial, np.zeros(len(init_infec))))\n",
    "    return initial.flatten()"
   ]
  },
  {
   "cell_type": "code",
   "execution_count": 2,
   "metadata": {},
   "outputs": [],
   "source": [
    "def CDMX(x, t, k_max, prop_deg):\n",
    "    def iof(ind):\n",
    "        n = VARS.index(ind)\n",
    "        return x[(n * k_max):((n+1) * k_max)]    \n",
    "\n",
    "    #Nombres en el modelo de CDMX (2020-05-14)\n",
    "    R0=2.83         #Tasa de reproducción estimada\n",
    "    Dinf=2.9        #Tiempo que es infeccioso el paciente\n",
    "    Dincub=5.2      #Tiempo incubación\n",
    "    Drl=11.1        #Tiempo recuperación casos intermedios\n",
    "    Dhosp=5         #Días entre síntomas y hospitalización\n",
    "    Drh=15          #Días totales de hospitalización\n",
    "    Duci=2          #**No especificado en modelo: Dias en UCI\n",
    "    Druci=14 #10    #**No especificado en modelo: Dias de recuperacion de UCI\n",
    "    Dm=4            #**No especificado en modelo: Dias a muerte en UCI\n",
    "    pgrav=0.15      #Tasa de hospitalización\n",
    "    puci=0.05       #Tasa de UCI\n",
    "    pm=0.035        #Tasa de mortalidad\n",
    "    #Otros:\n",
    "    #  Tiempo entre incubación y muerte [dias]: 32 \n",
    "    #  Poblacion susceptible [millones]: 22 (ver en código)\n",
    "    \n",
    "    y = np.zeros(len(x))\n",
    "    k_mult = np.arange(1, k_max+1) * prop_deg\n",
    "    avg_k = np.sum(k_mult)\n",
    "    further = np.sum(np.multiply(k_mult, iof('expuestos')))\n",
    "    th = further / avg_k\n",
    "    \n",
    "    for k in range(k_max):\n",
    "        d_sus = -(R0/Dinf) * iof('infecciosos')[k] * iof('susceptibles')[k]\n",
    "        d_exp = (R0/Dinf) * iof('infecciosos')[k] * iof('susceptibles')[k] - (1/Dincub)*iof('expuestos')[k]\n",
    "        d_inf = (1/Dincub) * iof('expuestos')[k] - (1/Dinf) * iof('infecciosos')[k]\n",
    "        d_leve = (1-pgrav) * (1/Dinf) * iof('infecciosos')[k] - (1/Drl) * iof('leve')[k]\n",
    "        d_grav = pgrav * (1/Dinf) * iof('infecciosos')[k] - (1/Dhosp) * iof('grave')[k]\n",
    "        d_hosp = (1/Dhosp) * iof('grave')[k] - (1-puci) * (1/Drh) * iof('hospitalizados')[k] \\\n",
    "            - puci * (1/Duci)*iof('hospitalizados')[k]\n",
    "        d_uci = puci * (1/Duci) * iof('hospitalizados')[k] - (1-pm) * (1/Druci) * iof('uci')[k] \\\n",
    "            - pm * (1/Dm) * iof('uci')[k]\n",
    "        d_rec = (1/Drl) * iof('leve')[k] + (1-puci) * (1/Drh) * iof('hospitalizados')[k] \\\n",
    "            + (1-pm) * (1/Druci) * iof('uci')[k]\n",
    "        d_mue = pm * (1/Dm) * iof('uci')[k]\n",
    "\n",
    "        y[k] = d_sus\n",
    "        y[k_max + k] = d_inf\n",
    "        y[2*k_max + k] = d_exp\n",
    "        y[3*k_max + k] = d_leve\n",
    "        y[4*k_max + k] = d_grav\n",
    "        y[5*k_max + k] = d_hosp\n",
    "        y[6*k_max + k] = d_uci\n",
    "        y[7*k_max + k] = d_rec\n",
    "        y[8*k_max + k] = d_mue\n",
    "            \n",
    "    return y"
   ]
  },
  {
   "cell_type": "code",
   "execution_count": 3,
   "metadata": {},
   "outputs": [
    {
     "data": {
      "text/plain": [
       "array([4.35814756e-03, 1.62419057e-03, 1.16671794e-03, 2.73959032e-03,\n",
       "       6.89195058e-03, 8.48718580e-03, 5.93032812e-03, 8.93529238e-03,\n",
       "       8.46360101e-03, 9.80745630e-03, 2.30284548e-03, 8.66848737e-03,\n",
       "       8.67248046e-03, 4.18604886e-03, 9.59248646e-04, 9.10465618e-03,\n",
       "       8.46860127e-03, 1.25223932e-03, 1.21646313e-03, 9.61727769e-03,\n",
       "       1.56908768e-03, 3.17504536e-03, 8.07898586e-03, 1.54932526e-03,\n",
       "       1.01704090e-03, 5.72958841e-04, 9.24376112e-04, 6.56206196e-04,\n",
       "       8.13425329e-03, 7.36925573e-03, 2.04199827e-03, 7.12680844e-03,\n",
       "       4.84498640e-03, 9.60551111e-03, 3.76606542e-03, 8.37573930e-03,\n",
       "       3.81137653e-04, 6.22377451e-03, 4.91643267e-03, 9.83606863e-03,\n",
       "       7.48527540e-03, 4.94370580e-04, 5.35025818e-03, 8.79660020e-03,\n",
       "       5.02196125e-05, 8.82254655e-04, 3.29690941e-04, 5.69046967e-03,\n",
       "       4.45462640e-05, 8.93100374e-03, 2.81986676e-03, 6.86851305e-03,\n",
       "       1.96416532e-03, 7.51147275e-03, 2.64863127e-03, 1.98646755e-04,\n",
       "       5.21155507e-03, 8.70606635e-03, 7.94570842e-03, 5.53652580e-03,\n",
       "       5.27007674e-03, 5.68269244e-03, 3.80454345e-03, 1.86544245e-05,\n",
       "       7.07349526e-03, 9.97509043e-03, 4.35570978e-03, 9.90271255e-03,\n",
       "       8.17888084e-03, 4.94620032e-03, 6.10886537e-03, 7.90264524e-04,\n",
       "       1.88691884e-03, 2.67833280e-04, 7.95160318e-05, 9.56046934e-03,\n",
       "       7.55983285e-03, 4.36357868e-03, 1.67255123e-04, 3.46545265e-03,\n",
       "       1.83208713e-03, 6.90677634e-03, 4.23726911e-03, 1.61020774e-03,\n",
       "       7.48606171e-03, 2.79172792e-04, 3.60130883e-03, 8.45003433e-03,\n",
       "       6.75470854e-03, 7.83096478e-03, 1.63187081e-03, 3.28624099e-03,\n",
       "       9.77962461e-03, 5.66424177e-03, 1.23349802e-03, 5.60185365e-03,\n",
       "       2.04043063e-05, 3.85393421e-03, 3.14876381e-03, 6.42081480e-03,\n",
       "       9.11405704e-04, 7.53307317e-03, 9.94852562e-03, 4.30423526e-03,\n",
       "       7.69185053e-03, 8.52937444e-03, 9.43556403e-04, 3.27802694e-03,\n",
       "       2.28728743e-03, 4.94337926e-03, 2.16628230e-03, 3.58418765e-03,\n",
       "       4.72787826e-03, 4.51558480e-03, 7.49694621e-04, 4.21873503e-03,\n",
       "       7.47435393e-03, 5.25597281e-03, 6.74653434e-03, 8.90377495e-03,\n",
       "       3.84932395e-03, 7.64046610e-03, 5.18547422e-03, 8.94249422e-03,\n",
       "       4.13892549e-03, 3.57909061e-03, 3.12399889e-03, 3.26262200e-03,\n",
       "       9.56622937e-03, 3.77314444e-03, 7.96905548e-03, 8.23667359e-03,\n",
       "       8.60078333e-03, 9.00237197e-04, 6.68896795e-03, 7.90651516e-03,\n",
       "       1.31048103e-03, 6.88871995e-03, 4.24993781e-03, 4.85461261e-04,\n",
       "       2.58163297e-05, 6.86967193e-03, 2.64365085e-03, 5.46510369e-03,\n",
       "       9.19475213e-03, 7.78937441e-03, 5.14533496e-03, 9.52392853e-04,\n",
       "       8.37683866e-03, 1.14959689e-03, 5.75574980e-03, 3.93380016e-03,\n",
       "       2.48307325e-03, 3.44435596e-03, 4.22581988e-03, 9.35510884e-03,\n",
       "       9.03926965e-04, 7.93557155e-03, 8.85859475e-04, 8.46137093e-03,\n",
       "       5.23057971e-03, 6.48430453e-03, 1.48126687e-03, 8.61131184e-03,\n",
       "       8.41557913e-04, 4.90036601e-04, 9.93681872e-03, 6.38245671e-03,\n",
       "       5.35657591e-03, 5.64548619e-03, 8.66002736e-03, 9.94698694e-03,\n",
       "       6.33342563e-03, 7.82249482e-03, 4.65237576e-03, 9.73977618e-03,\n",
       "       5.83951790e-03, 8.34333583e-03, 9.34815548e-03, 8.49391911e-03,\n",
       "       2.50321973e-03, 8.20027244e-03, 8.48278969e-03, 7.28863819e-03,\n",
       "       5.24095682e-03, 7.31000869e-03, 4.26042342e-03, 1.76634303e-03,\n",
       "       9.78145849e-03, 2.39696359e-03, 2.09157359e-03, 5.84985942e-03,\n",
       "       5.65520247e-04, 6.19371986e-03, 4.73703294e-03, 8.79645586e-04,\n",
       "       3.94535640e-04, 2.86993620e-03, 9.18619147e-03, 6.77942735e-03])"
      ]
     },
     "execution_count": 3,
     "metadata": {},
     "output_type": "execute_result"
    }
   ],
   "source": [
    "#numero de \"escenarios\"\n",
    "k_max = 200\n",
    "\n",
    "p = 0.4\n",
    "infec = np.random.rand(k_max)\n",
    "all_infec = sum(infec)\n",
    "prop_inf = infec / all_infec\n",
    "prop_inf"
   ]
  },
  {
   "cell_type": "code",
   "execution_count": 4,
   "metadata": {},
   "outputs": [
    {
     "data": {
      "text/plain": [
       "102.93083408067736"
      ]
     },
     "execution_count": 4,
     "metadata": {},
     "output_type": "execute_result"
    }
   ],
   "source": [
    "np.sum(prop_inf * np.arange(1, k_max+1))"
   ]
  },
  {
   "cell_type": "code",
   "execution_count": 5,
   "metadata": {},
   "outputs": [
    {
     "data": {
      "text/plain": [
       "1800"
      ]
     },
     "execution_count": 5,
     "metadata": {},
     "output_type": "execute_result"
    }
   ],
   "source": [
    "the_proportions = make_proportions(9, prop_inf)\n",
    "the_proportions\n",
    "len(the_proportions)"
   ]
  },
  {
   "cell_type": "code",
   "execution_count": 6,
   "metadata": {},
   "outputs": [
    {
     "name": "stdout",
     "output_type": "stream",
     "text": [
      "[0.         0.32967995 0.22099108 0.14813475 0.09929769 0.06656123\n",
      " 0.04461733 0.02990789 0.02004786 0.01343848]\n"
     ]
    },
    {
     "data": {
      "text/plain": [
       "[<matplotlib.lines.Line2D at 0x7f907fa18c18>]"
      ]
     },
     "execution_count": 6,
     "metadata": {},
     "output_type": "execute_result"
    },
    {
     "data": {
      "image/png": "[encoded data removed]",
      "text/plain": [
       "<Figure size 432x288 with 1 Axes>"
      ]
     },
     "metadata": {
      "needs_background": "light"
     },
     "output_type": "display_data"
    }
   ],
   "source": [
    "#pd es el parámetro prop_deg del modelo (qué es?)\n",
    "pd = degree_dist(p, k_max)\n",
    "print(pd[:10])\n",
    "#sum(pd)\n",
    "plt.plot(pd)"
   ]
  },
  {
   "cell_type": "code",
   "execution_count": 7,
   "metadata": {},
   "outputs": [
    {
     "data": {
      "text/plain": [
       "4.033244781719736"
      ]
     },
     "execution_count": 7,
     "metadata": {},
     "output_type": "execute_result"
    }
   ],
   "source": [
    "np.sum(np.multiply(pd, np.arange(1, k_max+1)))"
   ]
  },
  {
   "cell_type": "code",
   "execution_count": 8,
   "metadata": {},
   "outputs": [],
   "source": [
    "from scipy.integrate import odeint\n",
    "t = np.arange(0, 101, 1)\n",
    "y1 = odeint(CDMX, the_proportions, t, args=(k_max, pd))"
   ]
  },
  {
   "cell_type": "code",
   "execution_count": 9,
   "metadata": {},
   "outputs": [
    {
     "data": {
      "text/plain": [
       "(101, 1800)"
      ]
     },
     "execution_count": 9,
     "metadata": {},
     "output_type": "execute_result"
    }
   ],
   "source": [
    "y1.shape"
   ]
  },
  {
   "cell_type": "code",
   "execution_count": 10,
   "metadata": {},
   "outputs": [
    {
     "name": "stdout",
     "output_type": "stream",
     "text": [
      "(1800,)\n"
     ]
    },
    {
     "data": {
      "text/plain": [
       "array([0.99564185, 0.99837581, 0.99883328, ..., 0.        , 0.        ,\n",
       "       0.        ])"
      ]
     },
     "execution_count": 10,
     "metadata": {},
     "output_type": "execute_result"
    }
   ],
   "source": [
    "print(y1[0].shape)\n",
    "y1[0]"
   ]
  },
  {
   "cell_type": "code",
   "execution_count": 11,
   "metadata": {
    "scrolled": true
   },
   "outputs": [
    {
     "name": "stdout",
     "output_type": "stream",
     "text": [
      "101\n"
     ]
    },
    {
     "data": {
      "text/plain": [
       "[0.9965739983943203,\n",
       " 0.9936855598296829,\n",
       " 0.9912397942778182,\n",
       " 0.9888276553236554,\n",
       " 0.9862175703614213,\n",
       " 0.9832602428423876,\n",
       " 0.9798418759998222,\n",
       " 0.9758609550352564,\n",
       " 0.9712166724903979,\n",
       " 0.965803266164725,\n",
       " 0.9595075394867061,\n",
       " 0.9522083008050453,\n",
       " 0.9437771921002833,\n",
       " 0.9340807166528674,\n",
       " 0.9229834019117871,\n",
       " 0.9103520393647714,\n",
       " 0.8960609114215008,\n",
       " 0.8799977261244575,\n",
       " 0.8620699055997844,\n",
       " 0.8422106966955181,\n",
       " 0.820384562570769,\n",
       " 0.796591369794993,\n",
       " 0.7708690849680879,\n",
       " 0.7432949940957587,\n",
       " 0.7139857833917098,\n",
       " 0.6830970035502439,\n",
       " 0.6508224245580123,\n",
       " 0.6173934920067422,\n",
       " 0.5830786025743765,\n",
       " 0.5481813959497632,\n",
       " 0.5130369261111896,\n",
       " 0.47800462775797203,\n",
       " 0.44345744391555264,\n",
       " 0.40976732505019553,\n",
       " 0.3772882418072754,\n",
       " 0.3463386257499264,\n",
       " 0.31718556173088797,\n",
       " 0.2900328640136775,\n",
       " 0.26501455301447885,\n",
       " 0.24219427985557218,\n",
       " 0.22157022706525425,\n",
       " 0.20308427303392673,\n",
       " 0.1866337388929401,\n",
       " 0.17208401629876538,\n",
       " 0.15928065385836818,\n",
       " 0.1480598939225417,\n",
       " 0.13825714430899644,\n",
       " 0.12971325019685265,\n",
       " 0.12227872019032006,\n",
       " 0.1158162329488359,\n",
       " 0.11020179308769085,\n",
       " 0.10532490729934398,\n",
       " 0.10108810437420626,\n",
       " 0.09740605067957082,\n",
       " 0.09420445412480756,\n",
       " 0.09141889127740388,\n",
       " 0.08899364475193076,\n",
       " 0.0868806053438578,\n",
       " 0.08503826740727424,\n",
       " 0.08343082963731235,\n",
       " 0.08202740306003119,\n",
       " 0.08080132081746311,\n",
       " 0.07972954151328163,\n",
       " 0.07879213642936206,\n",
       " 0.07797185014221299,\n",
       " 0.07725372488303539,\n",
       " 0.0766247798638018,\n",
       " 0.07607373743142594,\n",
       " 0.07559078909896548,\n",
       " 0.0751673955646312,\n",
       " 0.07479611548799514,\n",
       " 0.07447045862163432,\n",
       " 0.07418475975896974,\n",
       " 0.07393407036397243,\n",
       " 0.07371406488360724,\n",
       " 0.07352096018449836,\n",
       " 0.07335144576104924,\n",
       " 0.07320262331555351,\n",
       " 0.07307195435967594,\n",
       " 0.07295721470765706,\n",
       " 0.07285645491391214,\n",
       " 0.07276796583193594,\n",
       " 0.07269024860469517,\n",
       " 0.07262198848696448,\n",
       " 0.07256203200173242,\n",
       " 0.07250936697008933,\n",
       " 0.07246310506032272,\n",
       " 0.07242246653789969,\n",
       " 0.07238676689797295,\n",
       " 0.07235540517659017,\n",
       " 0.07232785371359898,\n",
       " 0.07230364915672075,\n",
       " 0.07228238457464861,\n",
       " 0.07226370261063315,\n",
       " 0.07224728940158281,\n",
       " 0.07223286927295276,\n",
       " 0.07222020008200107,\n",
       " 0.07220906914177326,\n",
       " 0.07219928960050777,\n",
       " 0.07219069733422416,\n",
       " 0.0721831481635832]"
      ]
     },
     "execution_count": 11,
     "metadata": {},
     "output_type": "execute_result"
    }
   ],
   "source": [
    "susceptibles = [np.sum(np.multiply(ye[:k_max], pd)) for ye in y1]\n",
    "print(len(susceptibles))\n",
    "susceptibles"
   ]
  },
  {
   "cell_type": "code",
   "execution_count": 12,
   "metadata": {},
   "outputs": [],
   "source": [
    "res = {}\n",
    "for index, var in enumerate(VARS):\n",
    "    fr = k_max * index\n",
    "    to = k_max * (index+1)\n",
    "    res[var] = [np.sum(np.multiply(ye[fr:to], pd)) for ye in y1] "
   ]
  },
  {
   "cell_type": "code",
   "execution_count": 13,
   "metadata": {},
   "outputs": [
    {
     "data": {
      "text/plain": [
       "<matplotlib.legend.Legend at 0x7f90776c10b8>"
      ]
     },
     "execution_count": 13,
     "metadata": {},
     "output_type": "execute_result"
    },
    {
     "data": {
      "image/png": "[encoded data removed]",
      "text/plain": [
       "<Figure size 432x288 with 1 Axes>"
      ]
     },
     "metadata": {
      "needs_background": "light"
     },
     "output_type": "display_data"
    }
   ],
   "source": [
    "plt.plot(t, res['susceptibles'], label=\"S\")\n",
    "plt.plot(t, res['infecciosos'], label=\"I\")\n",
    "plt.plot(t, res['expuestos'], label=\"E\")\n",
    "#y esto por qué crece?\n",
    "plt.plot(t, res['recuperados'], label=\"R\")\n",
    "plt.legend()"
   ]
  },
  {
   "cell_type": "code",
   "execution_count": 14,
   "metadata": {},
   "outputs": [
    {
     "data": {
      "text/plain": [
       "<matplotlib.legend.Legend at 0x7f90776905f8>"
      ]
     },
     "execution_count": 14,
     "metadata": {},
     "output_type": "execute_result"
    },
    {
     "data": {
      "image/png": "[encoded data removed]",
      "text/plain": [
       "<Figure size 432x288 with 1 Axes>"
      ]
     },
     "metadata": {
      "needs_background": "light"
     },
     "output_type": "display_data"
    }
   ],
   "source": [
    "poblacion = 22000000\n",
    "for var in ['leve', 'grave', 'muertos', 'hospitalizados', 'uci']:\n",
    "    plt.plot(t, np.multiply(res[var], poblacion), label=var)\n",
    "plt.legend()"
   ]
  },
  {
   "cell_type": "code",
   "execution_count": 18,
   "metadata": {},
   "outputs": [
    {
     "data": {
      "text/plain": [
       "223241.25902689042"
      ]
     },
     "execution_count": 18,
     "metadata": {},
     "output_type": "execute_result"
    }
   ],
   "source": [
    "max(res[\"uci\"]) * poblacion"
   ]
  },
  {
   "cell_type": "code",
   "execution_count": 19,
   "metadata": {},
   "outputs": [
    {
     "data": {
      "text/plain": [
       "90104.94021877166"
      ]
     },
     "execution_count": 19,
     "metadata": {},
     "output_type": "execute_result"
    }
   ],
   "source": [
    "max(res[\"muertos\"]) * poblacion"
   ]
  }
 ],
 "metadata": {
  "kernelspec": {
   "display_name": "Python 3",
   "language": "python",
   "name": "python3"
  },
  "language_info": {
   "codemirror_mode": {
    "name": "ipython",
    "version": 3
   },
   "file_extension": ".py",
   "mimetype": "text/x-python",
   "name": "python",
   "nbconvert_exporter": "python",
   "pygments_lexer": "ipython3",
   "version": "3.6.9"
  }
 },
 "nbformat": 4,
 "nbformat_minor": 4
}
